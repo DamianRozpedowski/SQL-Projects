{
    "metadata": {
        "kernelspec": {
            "name": "SQL",
            "display_name": "SQL",
            "language": "sql"
        },
        "language_info": {
            "name": "sql",
            "version": ""
        }
    },
    "nbformat_minor": 2,
    "nbformat": 4,
    "cells": [
        {
            "cell_type": "markdown",
            "source": [
                "# **Project 1 - Team 3 - Hasnatul Hosna**"
            ],
            "metadata": {
                "azdata_cell_guid": "1ad05b38-3b24-4c7b-90c8-a9e1a42396fb"
            },
            "attachments": {}
        },
        {
            "cell_type": "markdown",
            "source": [
                "## **Top 3 Best Problems**"
            ],
            "metadata": {
                "azdata_cell_guid": "b240d0d3-28a3-4beb-9a69-fa9d204b0af7"
            },
            "attachments": {}
        },
        {
            "cell_type": "markdown",
            "source": [
                "\\-- 1\n",
                "\n",
                "Query 1 :  <span style=\"white-space-collapse: preserve; color: rgb(13, 13, 13); font-family: Söhne, ui-sans-serif, system-ui, -apple-system, &quot;Segoe UI&quot;, Roboto, Ubuntu, Cantarell, &quot;Noto Sans&quot;, sans-serif, &quot;Helvetica Neue&quot;, Arial, &quot;Apple Color Emoji&quot;, &quot;Segoe UI Emoji&quot;, &quot;Segoe UI Symbol&quot;, &quot;Noto Color Emoji&quot;; font-size: 16px; background-color: rgb(255, 255, 255);\">Proposition: Analyze sales performance by employee, </span>  <span style=\"white-space-collapse: preserve; color: rgb(13, 13, 13); font-family: Söhne, ui-sans-serif, system-ui, -apple-system, &quot;Segoe UI&quot;, Roboto, Ubuntu, Cantarell, &quot;Noto Sans&quot;, sans-serif, &quot;Helvetica Neue&quot;, Arial, &quot;Apple Color Emoji&quot;, &quot;Segoe UI Emoji&quot;, &quot;Segoe UI Symbol&quot;, &quot;Noto Color Emoji&quot;; font-size: 16px; background-color: rgb(255, 255, 255);\">grouping orders by employee and summarizing <b>total orders</b> and <b>total freight</b> cost to provide insights into each employee's sales activity. Retrieve the employee information such as full name, title, city, and country for a comprehensive analysis.</span>\n",
                "\n",
                "**Why is this a top problem?**\n",
                "\n",
                "<span style=\"font-family: -apple-system, BlinkMacSystemFont, sans-serif; color: var(--tw-prose-bold); border: 0px solid rgb(227, 227, 227); box-sizing: border-box; --tw-border-spacing-x: 0; --tw-border-spacing-y: 0; --tw-translate-x: 0; --tw-translate-y: 0; --tw-rotate: 0; --tw-skew-x: 0; --tw-skew-y: 0; --tw-scale-x: 1; --tw-scale-y: 1; --tw-pan-x: ; --tw-pan-y: ; --tw-pinch-zoom: ; --tw-scroll-snap-strictness: proximity; --tw-gradient-from-position: ; --tw-gradient-via-position: ; --tw-gradient-to-position: ; --tw-ordinal: ; --tw-slashed-zero: ; --tw-numeric-figure: ; --tw-numeric-spacing: ; --tw-numeric-fraction: ; --tw-ring-inset: ; --tw-ring-offset-width: 0px; --tw-ring-offset-color: #fff; --tw-ring-color: rgba(69,89,164,.5); --tw-ring-offset-shadow: 0 0 transparent; --tw-ring-shadow: 0 0 transparent; --tw-shadow: 0 0 transparent; --tw-shadow-colored: 0 0 transparent; --tw-blur: ; --tw-brightness: ; --tw-contrast: ; --tw-grayscale: ; --tw-hue-rotate: ; --tw-invert: ; --tw-saturate: ; --tw-sepia: ; --tw-drop-shadow: ; --tw-backdrop-blur: ; --tw-backdrop-brightness: ; --tw-backdrop-contrast: ; --tw-backdrop-grayscale: ; --tw-backdrop-hue-rotate: ; --tw-backdrop-invert: ; --tw-backdrop-opacity: ; --tw-backdrop-saturate: ; --tw-backdrop-sepia: ; font-weight: 600;\">Efficiency</span><span style=\"font-family: -apple-system, BlinkMacSystemFont, sans-serif; color: var(--vscode-foreground);\">:</span>\n",
                "\n",
                "<span style=\"font-family: -apple-system, BlinkMacSystemFont, sans-serif; color: var(--vscode-foreground);\">It uses Common Table Expressions (CTEs) to organize the query logically and improve readability without sacrificing performance.</span>\n",
                "\n",
                "<span style=\"font-family: -apple-system, BlinkMacSystemFont, sans-serif; color: var(--vscode-foreground);\">The query retrieves the necessary data using straightforward aggregation functions like COUNT() and SUM() without unnecessary complexity.</span>\n",
                "\n",
                "<span style=\"font-family: -apple-system, BlinkMacSystemFont, sans-serif; color: var(--tw-prose-bold); border: 0px solid rgb(227, 227, 227); box-sizing: border-box; --tw-border-spacing-x: 0; --tw-border-spacing-y: 0; --tw-translate-x: 0; --tw-translate-y: 0; --tw-rotate: 0; --tw-skew-x: 0; --tw-skew-y: 0; --tw-scale-x: 1; --tw-scale-y: 1; --tw-pan-x: ; --tw-pan-y: ; --tw-pinch-zoom: ; --tw-scroll-snap-strictness: proximity; --tw-gradient-from-position: ; --tw-gradient-via-position: ; --tw-gradient-to-position: ; --tw-ordinal: ; --tw-slashed-zero: ; --tw-numeric-figure: ; --tw-numeric-spacing: ; --tw-numeric-fraction: ; --tw-ring-inset: ; --tw-ring-offset-width: 0px; --tw-ring-offset-color: #fff; --tw-ring-color: rgba(69,89,164,.5); --tw-ring-offset-shadow: 0 0 transparent; --tw-ring-shadow: 0 0 transparent; --tw-shadow: 0 0 transparent; --tw-shadow-colored: 0 0 transparent; --tw-blur: ; --tw-brightness: ; --tw-contrast: ; --tw-grayscale: ; --tw-hue-rotate: ; --tw-invert: ; --tw-saturate: ; --tw-sepia: ; --tw-drop-shadow: ; --tw-backdrop-blur: ; --tw-backdrop-brightness: ; --tw-backdrop-contrast: ; --tw-backdrop-grayscale: ; --tw-backdrop-hue-rotate: ; --tw-backdrop-invert: ; --tw-backdrop-opacity: ; --tw-backdrop-saturate: ; --tw-backdrop-sepia: ; font-weight: 600;\">Readability</span><span style=\"font-family: -apple-system, BlinkMacSystemFont, sans-serif; color: var(--vscode-foreground);\">:</span>\n",
                "\n",
                "<span style=\"font-family: -apple-system, BlinkMacSystemFont, sans-serif; color: var(--vscode-foreground);\">The query is well-structured and easy to understand, making it accessible for both developers and analysts.</span>\n",
                "\n",
                "<span style=\"font-family: -apple-system, BlinkMacSystemFont, sans-serif; color: var(--vscode-foreground);\">Meaningful aliases ('o' for Sales.Order, 'e' for HumanResources.Employee) are used, enhancing clarity.</span>\n",
                "\n",
                "<span style=\"font-family: -apple-system, BlinkMacSystemFont, sans-serif; color: var(--tw-prose-bold); border: 0px solid rgb(227, 227, 227); box-sizing: border-box; --tw-border-spacing-x: 0; --tw-border-spacing-y: 0; --tw-translate-x: 0; --tw-translate-y: 0; --tw-rotate: 0; --tw-skew-x: 0; --tw-skew-y: 0; --tw-scale-x: 1; --tw-scale-y: 1; --tw-pan-x: ; --tw-pan-y: ; --tw-pinch-zoom: ; --tw-scroll-snap-strictness: proximity; --tw-gradient-from-position: ; --tw-gradient-via-position: ; --tw-gradient-to-position: ; --tw-ordinal: ; --tw-slashed-zero: ; --tw-numeric-figure: ; --tw-numeric-spacing: ; --tw-numeric-fraction: ; --tw-ring-inset: ; --tw-ring-offset-width: 0px; --tw-ring-offset-color: #fff; --tw-ring-color: rgba(69,89,164,.5); --tw-ring-offset-shadow: 0 0 transparent; --tw-ring-shadow: 0 0 transparent; --tw-shadow: 0 0 transparent; --tw-shadow-colored: 0 0 transparent; --tw-blur: ; --tw-brightness: ; --tw-contrast: ; --tw-grayscale: ; --tw-hue-rotate: ; --tw-invert: ; --tw-saturate: ; --tw-sepia: ; --tw-drop-shadow: ; --tw-backdrop-blur: ; --tw-backdrop-brightness: ; --tw-backdrop-contrast: ; --tw-backdrop-grayscale: ; --tw-backdrop-hue-rotate: ; --tw-backdrop-invert: ; --tw-backdrop-opacity: ; --tw-backdrop-saturate: ; --tw-backdrop-sepia: ; font-weight: 600;\">Maintainability</span><span style=\"font-family: -apple-system, BlinkMacSystemFont, sans-serif; color: var(--vscode-foreground);\">:</span>\n",
                "\n",
                "<span style=\"font-family: -apple-system, BlinkMacSystemFont, sans-serif; color: var(--vscode-foreground);\">The use of CTEs separates logical sections of the query, making it easier to maintain and modify in the future.</span>\n",
                "\n",
                "<span style=\"font-family: -apple-system, BlinkMacSystemFont, sans-serif; color: var(--vscode-foreground);\">Column aliases and descriptive comments could be added for further clarity, but even without them, the query is relatively self-explanatory.</span>"
            ],
            "metadata": {
                "azdata_cell_guid": "a665a2bb-94e8-4ef7-b302-2d496bb951e8"
            },
            "attachments": {}
        },
        {
            "cell_type": "code",
            "source": [
                "use Northwinds2022TSQLV7;\n",
                "\n",
                "WITH SalesSummary AS (\n",
                "    SELECT\n",
                "        o.EmployeeId,\n",
                "        COUNT(o.OrderId) AS TotalOrders,\n",
                "        SUM(o.Freight) AS TotalFreight\n",
                "    FROM\n",
                "        Sales.[Order] o\n",
                "    GROUP BY\n",
                "        o.EmployeeId\n",
                "),\n",
                "EmployeeInfo AS (\n",
                "    SELECT\n",
                "        e.EmployeeId,\n",
                "        CONCAT(e.EmployeeFirstName, ' ', e.EmployeeLastName) AS FullName,\n",
                "        e.EmployeeTitle,\n",
                "        e.EmployeeCity,\n",
                "        e.EmployeeCountry\n",
                "    FROM\n",
                "        HumanResources.Employee e\n",
                ")\n",
                "SELECT\n",
                "    e.EmployeeId,\n",
                "    e.FullName,\n",
                "    e.EmployeeTitle,\n",
                "    e.EmployeeCity,\n",
                "    e.EmployeeCountry,\n",
                "    s.TotalOrders,\n",
                "    s.TotalFreight\n",
                "FROM\n",
                "    EmployeeInfo e\n",
                "JOIN\n",
                "    SalesSummary s ON e.EmployeeId = s.EmployeeId;\n",
                "\n",
                ""
            ],
            "metadata": {
                "azdata_cell_guid": "4e4c2452-8e01-4dc4-9059-f0126ef53291",
                "language": "sql"
            },
            "outputs": [
                {
                    "output_type": "display_data",
                    "data": {
                        "text/html": "(9 rows affected)"
                    },
                    "metadata": {}
                },
                {
                    "output_type": "display_data",
                    "data": {
                        "text/html": "Total execution time: 00:00:00.315"
                    },
                    "metadata": {}
                },
                {
                    "output_type": "execute_result",
                    "metadata": {},
                    "execution_count": 1,
                    "data": {
                        "application/vnd.dataresource+json": {
                            "schema": {
                                "fields": [
                                    {
                                        "name": "EmployeeId"
                                    },
                                    {
                                        "name": "FullName"
                                    },
                                    {
                                        "name": "EmployeeTitle"
                                    },
                                    {
                                        "name": "EmployeeCity"
                                    },
                                    {
                                        "name": "EmployeeCountry"
                                    },
                                    {
                                        "name": "TotalOrders"
                                    },
                                    {
                                        "name": "TotalFreight"
                                    }
                                ]
                            },
                            "data": [
                                {
                                    "EmployeeId": "9",
                                    "FullName": "Patricia Doyle",
                                    "EmployeeTitle": "Sales Representative",
                                    "EmployeeCity": "London",
                                    "EmployeeCountry": "UK",
                                    "TotalOrders": "43",
                                    "TotalFreight": "3326.26"
                                },
                                {
                                    "EmployeeId": "3",
                                    "FullName": "Judy Lew",
                                    "EmployeeTitle": "Sales Manager",
                                    "EmployeeCity": "Kirkland",
                                    "EmployeeCountry": "USA",
                                    "TotalOrders": "127",
                                    "TotalFreight": "10884.74"
                                },
                                {
                                    "EmployeeId": "6",
                                    "FullName": "Paul Suurs",
                                    "EmployeeTitle": "Sales Representative",
                                    "EmployeeCity": "London",
                                    "EmployeeCountry": "UK",
                                    "TotalOrders": "67",
                                    "TotalFreight": "3780.47"
                                },
                                {
                                    "EmployeeId": "7",
                                    "FullName": "Russell King",
                                    "EmployeeTitle": "Sales Representative",
                                    "EmployeeCity": "London",
                                    "EmployeeCountry": "UK",
                                    "TotalOrders": "72",
                                    "TotalFreight": "6665.44"
                                },
                                {
                                    "EmployeeId": "1",
                                    "FullName": "Sara Davis",
                                    "EmployeeTitle": "CEO",
                                    "EmployeeCity": "Seattle",
                                    "EmployeeCountry": "USA",
                                    "TotalOrders": "123",
                                    "TotalFreight": "8836.64"
                                },
                                {
                                    "EmployeeId": "4",
                                    "FullName": "Yael Peled",
                                    "EmployeeTitle": "Sales Representative",
                                    "EmployeeCity": "Redmond",
                                    "EmployeeCountry": "USA",
                                    "TotalOrders": "156",
                                    "TotalFreight": "11346.14"
                                },
                                {
                                    "EmployeeId": "5",
                                    "FullName": "Sven Mortensen",
                                    "EmployeeTitle": "Sales Manager",
                                    "EmployeeCity": "London",
                                    "EmployeeCountry": "UK",
                                    "TotalOrders": "42",
                                    "TotalFreight": "3918.71"
                                },
                                {
                                    "EmployeeId": "2",
                                    "FullName": "Don Funk",
                                    "EmployeeTitle": "Vice President, Sales",
                                    "EmployeeCity": "Tacoma",
                                    "EmployeeCountry": "USA",
                                    "TotalOrders": "96",
                                    "TotalFreight": "8696.41"
                                },
                                {
                                    "EmployeeId": "8",
                                    "FullName": "Maria Cameron",
                                    "EmployeeTitle": "Sales Representative",
                                    "EmployeeCity": "Seattle",
                                    "EmployeeCountry": "USA",
                                    "TotalOrders": "104",
                                    "TotalFreight": "7487.88"
                                }
                            ]
                        },
                        "text/html": [
                            "<table>",
                            "<tr><th>EmployeeId</th><th>FullName</th><th>EmployeeTitle</th><th>EmployeeCity</th><th>EmployeeCountry</th><th>TotalOrders</th><th>TotalFreight</th></tr>",
                            "<tr><td>9</td><td>Patricia Doyle</td><td>Sales Representative</td><td>London</td><td>UK</td><td>43</td><td>3326.26</td></tr>",
                            "<tr><td>3</td><td>Judy Lew</td><td>Sales Manager</td><td>Kirkland</td><td>USA</td><td>127</td><td>10884.74</td></tr>",
                            "<tr><td>6</td><td>Paul Suurs</td><td>Sales Representative</td><td>London</td><td>UK</td><td>67</td><td>3780.47</td></tr>",
                            "<tr><td>7</td><td>Russell King</td><td>Sales Representative</td><td>London</td><td>UK</td><td>72</td><td>6665.44</td></tr>",
                            "<tr><td>1</td><td>Sara Davis</td><td>CEO</td><td>Seattle</td><td>USA</td><td>123</td><td>8836.64</td></tr>",
                            "<tr><td>4</td><td>Yael Peled</td><td>Sales Representative</td><td>Redmond</td><td>USA</td><td>156</td><td>11346.14</td></tr>",
                            "<tr><td>5</td><td>Sven Mortensen</td><td>Sales Manager</td><td>London</td><td>UK</td><td>42</td><td>3918.71</td></tr>",
                            "<tr><td>2</td><td>Don Funk</td><td>Vice President, Sales</td><td>Tacoma</td><td>USA</td><td>96</td><td>8696.41</td></tr>",
                            "<tr><td>8</td><td>Maria Cameron</td><td>Sales Representative</td><td>Seattle</td><td>USA</td><td>104</td><td>7487.88</td></tr>",
                            "</table>"
                        ]
                    }
                }
            ],
            "execution_count": 1
        },
        {
            "cell_type": "markdown",
            "source": [
                "Subsystem of <span style=\"color: rgb(33, 33, 33); font-family: Menlo, Monaco, &quot;Courier New&quot;, monospace; font-size: 12px; white-space: pre;\">Northwinds2022TSQLV7:</span>\n",
                "\n",
                "![Image](https://media.discordapp.net/attachments/1208965180734701639/1221601196117065748/Screenshot_2024-03-24_192134.png?ex=66132bc5&is=6600b6c5&hm=8df356b196423d43dbdd3d56965ad88db050b8f4c48141a2c75efc0aec5788db&=&format=webp&quality=lossless&width=1454&height=888)"
            ],
            "metadata": {
                "language": "sql",
                "azdata_cell_guid": "db299c7b-e64a-48d5-80f1-fce4c5b163ee"
            },
            "attachments": {}
        },
        {
            "cell_type": "markdown",
            "source": [
                "Diagram of Tables:\n",
                "\n",
                "![Image](https://media.discordapp.net/attachments/1208965180734701639/1221599005440606238/Screenshot_2024-03-24_191703.png?ex=661329bb&is=6600b4bb&hm=e6dcbc9f8d10f4d8973d70115f4bbf50009a0e5af84f26224a36682e7adb6cfc&=&format=webp&quality=lossless&width=1328&height=888)"
            ],
            "metadata": {
                "language": "sql",
                "azdata_cell_guid": "2e16dc8e-0f6f-4502-aeb7-f8d4a70b6633"
            },
            "attachments": {}
        },
        {
            "cell_type": "markdown",
            "source": [
                "Column Standard of Tables:\n",
                "\n",
                "![Image](https://media.discordapp.net/attachments/1208965180734701639/1221599005151072415/Screenshot_2024-03-24_191716.png?ex=661329bb&is=6600b4bb&hm=2857f1e9954491f2dc882518062bf229de146e3d1c9825c386268be55a6e134e&=&format=webp&quality=lossless&width=1522&height=888)"
            ],
            "metadata": {
                "language": "sql",
                "azdata_cell_guid": "4c830bdc-5a13-49f3-a795-cb0ae72abeaa"
            },
            "attachments": {}
        },
        {
            "cell_type": "markdown",
            "source": [
                "\\--3\n",
                "\n",
                "Query 2: \n",
                "\n",
                "<span style=\"background-color:rgb(255, 255, 255);color:rgb(13, 13, 13);font-family:Söhne, ui-sans-serif, system-ui, -apple-system, &quot;Segoe UI&quot;, Roboto, Ubuntu, Cantarell, &quot;Noto Sans&quot;, sans-serif, &quot;Helvetica Neue&quot;, Arial, &quot;Apple Color Emoji&quot;, &quot;Segoe UI Emoji&quot;, &quot;Segoe UI Symbol&quot;, &quot;Noto Color Emoji&quot;;font-size:16px;\">Proposition: Retrieves the total number of orders and the total sales amount for each customer company.</span>\n",
                "\n",
                "**Why is this a top problem?**  \n",
                "\n",
                "This query stands out as one of the best because of its efficiency and clarity in summarizing sales data for each customer. By utilizing common table expressions (CTEs) and aggregating functions, it elegantly computes the total number of orders and the total sales amount for each customer company. Firstly, the query uses a CTE named \"OrderSummary\" to calculate the total amount for each order by multiplying the unit price, quantity, and discount percentage. This CTE enhances readability and simplifies the main query by abstracting complex computations into a named subquery. Secondly, the main query aggregates the results from the \"OrderSummary\" CTE, grouping them by the customer's company name. It counts the number of orders and sums up the total sales amount for each customer.This approach not only streamlines the code but also improves its maintainability and understandability. By breaking down the problem into logical steps and using meaningful aliases for tables and columns, the query becomes self-explanatory even for someone not deeply familiar with the database schema."
            ],
            "metadata": {
                "language": "sql",
                "azdata_cell_guid": "fbf88cc9-f55f-4753-8fcd-4f0f7b0e6918"
            },
            "attachments": {}
        },
        {
            "cell_type": "code",
            "source": [
                "USE Northwinds2022TSQLV7;\n",
                "\n",
                "WITH OrderSummary AS (\n",
                "    SELECT \n",
                "        c.CustomerCompanyName,\n",
                "        o.OrderId,\n",
                "        o.OrderDate,\n",
                "        SUM(od.UnitPrice * od.Quantity * (1 - od.DiscountPercentage)) AS TotalAmount\n",
                "    FROM \n",
                "        Sales.Customer c\n",
                "    INNER JOIN \n",
                "        Sales.[Order] o ON c.CustomerId = o.CustomerId\n",
                "    INNER JOIN \n",
                "        Sales.OrderDetail od ON o.OrderId = od.OrderId\n",
                "    GROUP BY \n",
                "        c.CustomerCompanyName, o.OrderId, o.OrderDate\n",
                ")\n",
                "SELECT \n",
                "    CustomerCompanyName,\n",
                "    COUNT(OrderId) AS TotalOrders,\n",
                "    SUM(TotalAmount) AS TotalSales\n",
                "FROM \n",
                "    OrderSummary\n",
                "GROUP BY \n",
                "    CustomerCompanyName;\n",
                "\n",
                ""
            ],
            "metadata": {
                "language": "sql",
                "azdata_cell_guid": "b3fb25d5-e950-4ba0-b557-1d0c53244c38"
            },
            "outputs": [],
            "execution_count": null
        },
        {
            "cell_type": "markdown",
            "source": [
                "Table Diagram : \n",
                "\n",
                "![Image](https://media.discordapp.net/attachments/1208965180734701639/1221600475644956732/Screenshot_2024-03-24_192255.png?ex=66132b19&is=6600b619&hm=5cc4c87f3c407d59407c1d6e281ce1cbf53dc5870839909894cf3c5d45d2d958&=&format=webp&quality=lossless&width=1430&height=888)"
            ],
            "metadata": {
                "language": "sql",
                "azdata_cell_guid": "3ce90e31-4e81-43f1-b73d-72d01251ce93"
            },
            "attachments": {}
        },
        {
            "cell_type": "markdown",
            "source": [
                "Column Standards of tables: \n",
                "\n",
                "![Image](https://media.discordapp.net/attachments/1208965180734701639/1221600476047605810/Screenshot_2024-03-24_192324.png?ex=66132b19&is=6600b619&hm=08c7f14b910e13089b9cc566165f00a53d286708f3a4b1ca152df23e74974908&=&format=webp&quality=lossless&width=1842&height=888)"
            ],
            "metadata": {
                "language": "sql",
                "azdata_cell_guid": "dc92e966-0f28-43ad-b0d9-eda5ffee9548"
            },
            "attachments": {}
        },
        {
            "cell_type": "markdown",
            "source": [
                "\\--17\n",
                "\n",
                "Query 3: \n",
                "\n",
                "Proposition: <span style=\"background-color: rgb(255, 255, 255); color: rgb(13, 13, 13); font-family: Söhne, ui-sans-serif, system-ui, -apple-system, &quot;Segoe UI&quot;, Roboto, Ubuntu, Cantarell, &quot;Noto Sans&quot;, sans-serif, &quot;Helvetica Neue&quot;, Arial, &quot;Apple Color Emoji&quot;, &quot;Segoe UI Emoji&quot;, &quot;Segoe UI Symbol&quot;, &quot;Noto Color Emoji&quot;; font-size: 16px; white-space-collapse: preserve;\">Analyzing Product Distribution by Category and Supplier Country</span>\n",
                "\n",
                "<span style=\"color: rgb(13, 13, 13); font-family: Söhne, ui-sans-serif, system-ui, -apple-system, &quot;Segoe UI&quot;, Roboto, Ubuntu, Cantarell, &quot;Noto Sans&quot;, sans-serif, &quot;Helvetica Neue&quot;, Arial, &quot;Apple Color Emoji&quot;, &quot;Segoe UI Emoji&quot;, &quot;Segoe UI Symbol&quot;, &quot;Noto Color Emoji&quot;; font-size: 16px; white-space-collapse: preserve; background-color: rgb(255, 255, 255);\">The main objective is to summarize the data by category and supplier country, presenting the total number of products and the count of unique suppliers for each category-country combination</span><span style=\"background-color: rgb(255, 255, 255); color: rgb(13, 13, 13); font-family: Söhne, ui-sans-serif, system-ui, -apple-system, &quot;Segoe UI&quot;, Roboto, Ubuntu, Cantarell, &quot;Noto Sans&quot;, sans-serif, &quot;Helvetica Neue&quot;, Arial, &quot;Apple Color Emoji&quot;, &quot;Segoe UI Emoji&quot;, &quot;Segoe UI Symbol&quot;, &quot;Noto Color Emoji&quot;; font-size: 16px; white-space-collapse: preserve;\"><br></span>\n",
                "\n",
                "<span style=\"color: rgb(13, 13, 13); font-family: Söhne, ui-sans-serif, system-ui, -apple-system, &quot;Segoe UI&quot;, Roboto, Ubuntu, Cantarell, &quot;Noto Sans&quot;, sans-serif, &quot;Helvetica Neue&quot;, Arial, &quot;Apple Color Emoji&quot;, &quot;Segoe UI Emoji&quot;, &quot;Segoe UI Symbol&quot;, &quot;Noto Color Emoji&quot;; font-size: 16px; white-space-collapse: preserve; background-color: rgb(255, 255, 255);\"><br></span>\n",
                "\n",
                "**Why is the top Problem?**\n",
                "\n",
                "It efficiently provides crucial insights into product distribution across categories and countries. By combining data from the Product, Category, and Supplier tables, it offers a comprehensive view of product-supplier relationships.\n",
                "\n",
                "Firstly, it selects relevant fields like ProductName, CategoryName, SupplierCompanyName, and SupplierCountry, providing a clear understanding of the products, their categories, and their respective suppliers.\n",
                "\n",
                "Next, it counts the total number of products and the number of unique suppliers within each category and country combination. This allows for a precise evaluation of product diversity and supplier distribution across different regions.\n",
                "\n",
                "Lastly, the results are sorted by CategoryName and SupplierCountry, ensuring a structured presentation of the data for easy analysis and comparison."
            ],
            "metadata": {
                "language": "sql",
                "azdata_cell_guid": "6a87e050-454d-4bea-8546-f3bf41b46563"
            },
            "attachments": {}
        },
        {
            "cell_type": "code",
            "source": [
                "USE Northwinds2022TSQLV7;\n",
                "\n",
                "WITH ProductSupplierDetails AS (\n",
                "    SELECT\n",
                "        p.ProductId,\n",
                "        p.ProductName,\n",
                "        c.CategoryName,\n",
                "        s.SupplierCompanyName,\n",
                "        s.SupplierCountry\n",
                "    FROM\n",
                "        Production.Product p\n",
                "    INNER JOIN\n",
                "        Production.Category c ON p.CategoryId = c.CategoryId\n",
                "    INNER JOIN\n",
                "        Production.Supplier s ON p.SupplierId = s.SupplierId\n",
                ")\n",
                "SELECT\n",
                "    CategoryName,\n",
                "    SupplierCountry,\n",
                "    COUNT(ProductId) AS TotalProducts,\n",
                "    COUNT(DISTINCT SupplierCompanyName) AS UniqueSuppliers\n",
                "FROM\n",
                "    ProductSupplierDetails\n",
                "GROUP BY\n",
                "    CategoryName, SupplierCountry\n",
                "ORDER BY\n",
                "    CategoryName, SupplierCountry;\n",
                ""
            ],
            "metadata": {
                "language": "sql",
                "azdata_cell_guid": "9800e948-31ed-4aba-9f62-6a0bc870a35d"
            },
            "outputs": [],
            "execution_count": null
        },
        {
            "cell_type": "markdown",
            "source": [
                "Column Standards of Tables:\n",
                "\n",
                "![Image](https://media.discordapp.net/attachments/1208965180734701639/1221601030740119682/Screenshot_2024-03-24_192540.png?ex=66132b9d&is=6600b69d&hm=781c643785da57a288f3ddc6b84df7e69040f99acbeac8789e3a5813f2ebe63b&=&format=webp&quality=lossless&width=1920&height=790)"
            ],
            "metadata": {
                "language": "sql",
                "azdata_cell_guid": "0e498078-3004-42c6-b5c2-062184fa19d4"
            },
            "attachments": {}
        },
        {
            "cell_type": "markdown",
            "source": [
                "## **Top 3 Worst Problems**"
            ],
            "metadata": {
                "language": "sql",
                "azdata_cell_guid": "a04c58c4-d073-46a6-8caf-1fd0967622fc"
            },
            "attachments": {}
        },
        {
            "cell_type": "markdown",
            "source": [
                "\\--20\n",
                "\n",
                "Query 4: \n",
                "\n",
                "Proposition:  <span style=\"font-family: -apple-system, BlinkMacSystemFont, sans-serif; color: var(--vscode-foreground);\">R</span><span style=\"white-space-collapse: preserve; color: rgb(13, 13, 13); font-family: Söhne, ui-sans-serif, system-ui, -apple-system, &quot;Segoe UI&quot;, Roboto, Ubuntu, Cantarell, &quot;Noto Sans&quot;, sans-serif, &quot;Helvetica Neue&quot;, Arial, &quot;Apple Color Emoji&quot;, &quot;Segoe UI Emoji&quot;, &quot;Segoe UI Symbol&quot;, &quot;Noto Color Emoji&quot;; font-size: 16px; background-color: rgb(255, 255, 255);\">etrieves the latest salary information for each employee along with their current and previous salary details and identifies whether there was an increase, decrease, or no change in salary.</span>\n",
                "\n",
                "Why is it worst problem?\n",
                "\n",
                "1. <span style=\"border: 0px solid rgb(227, 227, 227); box-sizing: border-box; --tw-border-spacing-x: 0; --tw-border-spacing-y: 0; --tw-translate-x: 0; --tw-translate-y: 0; --tw-rotate: 0; --tw-skew-x: 0; --tw-skew-y: 0; --tw-scale-x: 1; --tw-scale-y: 1; --tw-pan-x: ; --tw-pan-y: ; --tw-pinch-zoom: ; --tw-scroll-snap-strictness: proximity; --tw-gradient-from-position: ; --tw-gradient-via-position: ; --tw-gradient-to-position: ; --tw-ordinal: ; --tw-slashed-zero: ; --tw-numeric-figure: ; --tw-numeric-spacing: ; --tw-numeric-fraction: ; --tw-ring-inset: ; --tw-ring-offset-width: 0px; --tw-ring-offset-color: #fff; --tw-ring-color: rgba(69,89,164,.5); --tw-ring-offset-shadow: 0 0 transparent; --tw-ring-shadow: 0 0 transparent; --tw-shadow: 0 0 transparent; --tw-shadow-colored: 0 0 transparent; --tw-blur: ; --tw-brightness: ; --tw-contrast: ; --tw-grayscale: ; --tw-hue-rotate: ; --tw-invert: ; --tw-saturate: ; --tw-sepia: ; --tw-drop-shadow: ; --tw-backdrop-blur: ; --tw-backdrop-brightness: ; --tw-backdrop-contrast: ; --tw-backdrop-grayscale: ; --tw-backdrop-hue-rotate: ; --tw-backdrop-invert: ; --tw-backdrop-opacity: ; --tw-backdrop-saturate: ; --tw-backdrop-sepia: ; font-weight: 600; color: var(--tw-prose-bold);\">Complexity</span>: The query involves multiple CTEs (Common Table Expressions) and joins, which can make it challenging to understand and maintain. If someone unfamiliar with the database structure or the purpose of the query needs to work on it, they might struggle to comprehend its logic.\n",
                "    \n",
                "2. <span style=\"border: 0px solid rgb(227, 227, 227); box-sizing: border-box; --tw-border-spacing-x: 0; --tw-border-spacing-y: 0; --tw-translate-x: 0; --tw-translate-y: 0; --tw-rotate: 0; --tw-skew-x: 0; --tw-skew-y: 0; --tw-scale-x: 1; --tw-scale-y: 1; --tw-pan-x: ; --tw-pan-y: ; --tw-pinch-zoom: ; --tw-scroll-snap-strictness: proximity; --tw-gradient-from-position: ; --tw-gradient-via-position: ; --tw-gradient-to-position: ; --tw-ordinal: ; --tw-slashed-zero: ; --tw-numeric-figure: ; --tw-numeric-spacing: ; --tw-numeric-fraction: ; --tw-ring-inset: ; --tw-ring-offset-width: 0px; --tw-ring-offset-color: #fff; --tw-ring-color: rgba(69,89,164,.5); --tw-ring-offset-shadow: 0 0 transparent; --tw-ring-shadow: 0 0 transparent; --tw-shadow: 0 0 transparent; --tw-shadow-colored: 0 0 transparent; --tw-blur: ; --tw-brightness: ; --tw-contrast: ; --tw-grayscale: ; --tw-hue-rotate: ; --tw-invert: ; --tw-saturate: ; --tw-sepia: ; --tw-drop-shadow: ; --tw-backdrop-blur: ; --tw-backdrop-brightness: ; --tw-backdrop-contrast: ; --tw-backdrop-grayscale: ; --tw-backdrop-hue-rotate: ; --tw-backdrop-invert: ; --tw-backdrop-opacity: ; --tw-backdrop-saturate: ; --tw-backdrop-sepia: ; font-weight: 600; color: var(--tw-prose-bold);\">Performance</span>: With multiple joins and calculations, this query might suffer from performance issues, especially as the data volume grows. Poorly optimized queries can slow down the database and impact other applications relying on it.\n",
                "    \n",
                "3. <span style=\"border: 0px solid rgb(227, 227, 227); box-sizing: border-box; --tw-border-spacing-x: 0; --tw-border-spacing-y: 0; --tw-translate-x: 0; --tw-translate-y: 0; --tw-rotate: 0; --tw-skew-x: 0; --tw-skew-y: 0; --tw-scale-x: 1; --tw-scale-y: 1; --tw-pan-x: ; --tw-pan-y: ; --tw-pinch-zoom: ; --tw-scroll-snap-strictness: proximity; --tw-gradient-from-position: ; --tw-gradient-via-position: ; --tw-gradient-to-position: ; --tw-ordinal: ; --tw-slashed-zero: ; --tw-numeric-figure: ; --tw-numeric-spacing: ; --tw-numeric-fraction: ; --tw-ring-inset: ; --tw-ring-offset-width: 0px; --tw-ring-offset-color: #fff; --tw-ring-color: rgba(69,89,164,.5); --tw-ring-offset-shadow: 0 0 transparent; --tw-ring-shadow: 0 0 transparent; --tw-shadow: 0 0 transparent; --tw-shadow-colored: 0 0 transparent; --tw-blur: ; --tw-brightness: ; --tw-contrast: ; --tw-grayscale: ; --tw-hue-rotate: ; --tw-invert: ; --tw-saturate: ; --tw-sepia: ; --tw-drop-shadow: ; --tw-backdrop-blur: ; --tw-backdrop-brightness: ; --tw-backdrop-contrast: ; --tw-backdrop-grayscale: ; --tw-backdrop-hue-rotate: ; --tw-backdrop-invert: ; --tw-backdrop-opacity: ; --tw-backdrop-saturate: ; --tw-backdrop-sepia: ; font-weight: 600; color: var(--tw-prose-bold);\">Maintenance</span>: Any changes to the database schema or requirements could potentially break this query. Since it's quite intricate, even small modifications might require significant effort to ensure its continued functionality.\n",
                "    \n",
                "4. <span style=\"border: 0px solid rgb(227, 227, 227); box-sizing: border-box; --tw-border-spacing-x: 0; --tw-border-spacing-y: 0; --tw-translate-x: 0; --tw-translate-y: 0; --tw-rotate: 0; --tw-skew-x: 0; --tw-skew-y: 0; --tw-scale-x: 1; --tw-scale-y: 1; --tw-pan-x: ; --tw-pan-y: ; --tw-pinch-zoom: ; --tw-scroll-snap-strictness: proximity; --tw-gradient-from-position: ; --tw-gradient-via-position: ; --tw-gradient-to-position: ; --tw-ordinal: ; --tw-slashed-zero: ; --tw-numeric-figure: ; --tw-numeric-spacing: ; --tw-numeric-fraction: ; --tw-ring-inset: ; --tw-ring-offset-width: 0px; --tw-ring-offset-color: #fff; --tw-ring-color: rgba(69,89,164,.5); --tw-ring-offset-shadow: 0 0 transparent; --tw-ring-shadow: 0 0 transparent; --tw-shadow: 0 0 transparent; --tw-shadow-colored: 0 0 transparent; --tw-blur: ; --tw-brightness: ; --tw-contrast: ; --tw-grayscale: ; --tw-hue-rotate: ; --tw-invert: ; --tw-saturate: ; --tw-sepia: ; --tw-drop-shadow: ; --tw-backdrop-blur: ; --tw-backdrop-brightness: ; --tw-backdrop-contrast: ; --tw-backdrop-grayscale: ; --tw-backdrop-hue-rotate: ; --tw-backdrop-invert: ; --tw-backdrop-opacity: ; --tw-backdrop-saturate: ; --tw-backdrop-sepia: ; font-weight: 600; color: var(--tw-prose-bold);\">Clarity</span>: The query lacks sufficient comments or documentation to explain its purpose and logic. Without proper documentation, it becomes even more challenging for developers to understand and troubleshoot it.\n",
                "    \n",
                "5. <span style=\"border: 0px solid rgb(227, 227, 227); box-sizing: border-box; --tw-border-spacing-x: 0; --tw-border-spacing-y: 0; --tw-translate-x: 0; --tw-translate-y: 0; --tw-rotate: 0; --tw-skew-x: 0; --tw-skew-y: 0; --tw-scale-x: 1; --tw-scale-y: 1; --tw-pan-x: ; --tw-pan-y: ; --tw-pinch-zoom: ; --tw-scroll-snap-strictness: proximity; --tw-gradient-from-position: ; --tw-gradient-via-position: ; --tw-gradient-to-position: ; --tw-ordinal: ; --tw-slashed-zero: ; --tw-numeric-figure: ; --tw-numeric-spacing: ; --tw-numeric-fraction: ; --tw-ring-inset: ; --tw-ring-offset-width: 0px; --tw-ring-offset-color: #fff; --tw-ring-color: rgba(69,89,164,.5); --tw-ring-offset-shadow: 0 0 transparent; --tw-ring-shadow: 0 0 transparent; --tw-shadow: 0 0 transparent; --tw-shadow-colored: 0 0 transparent; --tw-blur: ; --tw-brightness: ; --tw-contrast: ; --tw-grayscale: ; --tw-hue-rotate: ; --tw-invert: ; --tw-saturate: ; --tw-sepia: ; --tw-drop-shadow: ; --tw-backdrop-blur: ; --tw-backdrop-brightness: ; --tw-backdrop-contrast: ; --tw-backdrop-grayscale: ; --tw-backdrop-hue-rotate: ; --tw-backdrop-invert: ; --tw-backdrop-opacity: ; --tw-backdrop-saturate: ; --tw-backdrop-sepia: ; font-weight: 600; color: var(--tw-prose-bold);\">Data Integrity</span>: Depending on how the historical data is managed and updated, there's a risk of inconsistencies or inaccuracies in the results. Ensuring data integrity in such complex queries can be a significant challenge."
            ],
            "metadata": {
                "language": "sql",
                "azdata_cell_guid": "6ea5c148-053f-4e29-97a2-326f0dcdcdbb"
            },
            "attachments": {}
        },
        {
            "cell_type": "code",
            "source": [
                "USE Northwinds2022TSQLV7;\n",
                "\n",
                "WITH LatestTriggeredEmployeeHistory AS (\n",
                "    SELECT\n",
                "        t1.EmployeeId,\n",
                "        t1.EmployeeFullName,\n",
                "        t1.Department,\n",
                "        t1.Salary AS CurrentSalary,\n",
                "        t1.SysEndTime AS CurrentSalaryEndTime,\n",
                "        t2.Salary AS PreviousSalary,\n",
                "        t2.SysEndTime AS PreviousSalaryEndTime,\n",
                "        ROW_NUMBER() OVER (PARTITION BY t1.EmployeeId ORDER BY t1.SysEndTime DESC) AS RowNum\n",
                "    FROM\n",
                "        Triggered.Employee AS t1\n",
                "    LEFT JOIN\n",
                "        Triggered.AuditTriggeredEmployeeHistory AS t2\n",
                "    ON\n",
                "        t1.EmployeeId = t2.EmployeeId\n",
                "    WHERE\n",
                "        t1.IsDeleted = 'N'\n",
                "        AND t1.SysEndTime = '9999-12-31T23:59:59'\n",
                "),\n",
                "EmployeeSalaryChange AS (\n",
                "    SELECT\n",
                "        EmployeeId,\n",
                "        EmployeeFullName,\n",
                "        Department,\n",
                "        CurrentSalary,\n",
                "        CurrentSalaryEndTime,\n",
                "        PreviousSalary,\n",
                "        PreviousSalaryEndTime,\n",
                "        CASE\n",
                "            WHEN CurrentSalary > PreviousSalary THEN 'Increase'\n",
                "            WHEN CurrentSalary < PreviousSalary THEN 'Decrease'\n",
                "            ELSE 'No Change'\n",
                "        END AS SalaryChangeType\n",
                "    FROM\n",
                "        LatestTriggeredEmployeeHistory\n",
                "    WHERE\n",
                "        RowNum = 1\n",
                ")\n",
                "SELECT\n",
                "    e.EmployeeId,\n",
                "    e.EmployeeLastName,\n",
                "    e.EmployeeFirstName,\n",
                "    e.EmployeeTitle,\n",
                "    e.EmployeeTitleOfCourtesy,\n",
                "    e.BirthDate,\n",
                "    e.HireDate,\n",
                "    e.EmployeeAddress,\n",
                "    e.EmployeeCity,\n",
                "    e.EmployeeRegion,\n",
                "    e.EmployeePostalCode,\n",
                "    e.EmployeeCountry,\n",
                "    e.EmployeePhoneNumber,\n",
                "    e.EmployeeManagerId,\n",
                "    t.EmployeeFullName,\n",
                "    t.Department,\n",
                "    t.CurrentSalary,\n",
                "    t.PreviousSalary,\n",
                "    t.SalaryChangeType\n",
                "FROM\n",
                "    HumanResources.Employee AS e\n",
                "JOIN\n",
                "    EmployeeSalaryChange AS t\n",
                "ON\n",
                "    e.EmployeeId = t.EmployeeId;\n",
                ""
            ],
            "metadata": {
                "language": "sql",
                "azdata_cell_guid": "479a982d-0940-419a-b5bd-f161eb2dbf3d"
            },
            "outputs": [],
            "execution_count": null
        },
        {
            "cell_type": "markdown",
            "source": [
                "![Image](https://media.discordapp.net/attachments/1208965180734701639/1221602265798934568/Screenshot_2024-03-24_193020.png?ex=66132cc4&is=6600b7c4&hm=0e329df6d12c41feca7177affe927df43bb79c4f0277995e8e5b15bca04546ca&=&format=webp&quality=lossless&width=1826&height=888)"
            ],
            "metadata": {
                "language": "sql",
                "azdata_cell_guid": "fd7b50f9-cee0-4e75-a946-6a351c055ca3"
            },
            "attachments": {}
        },
        {
            "cell_type": "markdown",
            "source": [
                "![Image](https://media.discordapp.net/attachments/1208965180734701639/1221602266096734268/Screenshot_2024-03-24_193041.png?ex=66132cc4&is=6600b7c4&hm=f5b8d04fc64ed56dff240bff4c43ad982a371e77e07decdaed3bd7682cb901f7&=&format=webp&quality=lossless&width=1506&height=888)"
            ],
            "metadata": {
                "language": "sql",
                "azdata_cell_guid": "8b667354-aa3d-4c4c-a828-ffb2480708c5"
            },
            "attachments": {}
        },
        {
            "cell_type": "markdown",
            "source": [
                "\\--6\n",
                "\n",
                "Query 5: Proposition: <span style=\"background-color: rgb(255, 255, 255); color: rgb(13, 13, 13); font-family: Söhne, ui-sans-serif, system-ui, -apple-system, &quot;Segoe UI&quot;, Roboto, Ubuntu, Cantarell, &quot;Noto Sans&quot;, sans-serif, &quot;Helvetica Neue&quot;, Arial, &quot;Apple Color Emoji&quot;, &quot;Segoe UI Emoji&quot;, &quot;Segoe UI Symbol&quot;, &quot;Noto Color Emoji&quot;; font-size: 16px; white-space-collapse: preserve;\">Retrieves the count of addresses in each state or province along with their respective state/province name, code, and country region code, combines the Person Address and Person StateProvince tables, order by the address count in descending order, providing insight into the distribution of addresses across different states or provinces.</span>\n",
                "\n",
                "1. <span style=\"border: 0px solid rgb(227, 227, 227); box-sizing: border-box; --tw-border-spacing-x: 0; --tw-border-spacing-y: 0; --tw-translate-x: 0; --tw-translate-y: 0; --tw-rotate: 0; --tw-skew-x: 0; --tw-skew-y: 0; --tw-scale-x: 1; --tw-scale-y: 1; --tw-pan-x: ; --tw-pan-y: ; --tw-pinch-zoom: ; --tw-scroll-snap-strictness: proximity; --tw-gradient-from-position: ; --tw-gradient-via-position: ; --tw-gradient-to-position: ; --tw-ordinal: ; --tw-slashed-zero: ; --tw-numeric-figure: ; --tw-numeric-spacing: ; --tw-numeric-fraction: ; --tw-ring-inset: ; --tw-ring-offset-width: 0px; --tw-ring-offset-color: #fff; --tw-ring-color: rgba(69,89,164,.5); --tw-ring-offset-shadow: 0 0 transparent; --tw-ring-shadow: 0 0 transparent; --tw-shadow: 0 0 transparent; --tw-shadow-colored: 0 0 transparent; --tw-blur: ; --tw-brightness: ; --tw-contrast: ; --tw-grayscale: ; --tw-hue-rotate: ; --tw-invert: ; --tw-saturate: ; --tw-sepia: ; --tw-drop-shadow: ; --tw-backdrop-blur: ; --tw-backdrop-brightness: ; --tw-backdrop-contrast: ; --tw-backdrop-grayscale: ; --tw-backdrop-hue-rotate: ; --tw-backdrop-invert: ; --tw-backdrop-opacity: ; --tw-backdrop-saturate: ; --tw-backdrop-sepia: ; font-weight: 600; color: var(--tw-prose-bold);\">Why is it worst problem?</span>\n",
                "    \n",
                "2. <span style=\"border: 0px solid rgb(227, 227, 227); box-sizing: border-box; --tw-border-spacing-x: 0; --tw-border-spacing-y: 0; --tw-translate-x: 0; --tw-translate-y: 0; --tw-rotate: 0; --tw-skew-x: 0; --tw-skew-y: 0; --tw-scale-x: 1; --tw-scale-y: 1; --tw-pan-x: ; --tw-pan-y: ; --tw-pinch-zoom: ; --tw-scroll-snap-strictness: proximity; --tw-gradient-from-position: ; --tw-gradient-via-position: ; --tw-gradient-to-position: ; --tw-ordinal: ; --tw-slashed-zero: ; --tw-numeric-figure: ; --tw-numeric-spacing: ; --tw-numeric-fraction: ; --tw-ring-inset: ; --tw-ring-offset-width: 0px; --tw-ring-offset-color: #fff; --tw-ring-color: rgba(69,89,164,.5); --tw-ring-offset-shadow: 0 0 transparent; --tw-ring-shadow: 0 0 transparent; --tw-shadow: 0 0 transparent; --tw-shadow-colored: 0 0 transparent; --tw-blur: ; --tw-brightness: ; --tw-contrast: ; --tw-grayscale: ; --tw-hue-rotate: ; --tw-invert: ; --tw-saturate: ; --tw-sepia: ; --tw-drop-shadow: ; --tw-backdrop-blur: ; --tw-backdrop-brightness: ; --tw-backdrop-contrast: ; --tw-backdrop-grayscale: ; --tw-backdrop-hue-rotate: ; --tw-backdrop-invert: ; --tw-backdrop-opacity: ; --tw-backdrop-saturate: ; --tw-backdrop-sepia: ; font-weight: 600; color: var(--tw-prose-bold);\">Limited Scalability</span>: As the dataset grows, the query's performance might degrade significantly, making it unsuitable for handling larger volumes of data without optimizations.\n",
                "    \n",
                "3. <span style=\"border: 0px solid rgb(227, 227, 227); box-sizing: border-box; --tw-border-spacing-x: 0; --tw-border-spacing-y: 0; --tw-translate-x: 0; --tw-translate-y: 0; --tw-rotate: 0; --tw-skew-x: 0; --tw-skew-y: 0; --tw-scale-x: 1; --tw-scale-y: 1; --tw-pan-x: ; --tw-pan-y: ; --tw-pinch-zoom: ; --tw-scroll-snap-strictness: proximity; --tw-gradient-from-position: ; --tw-gradient-via-position: ; --tw-gradient-to-position: ; --tw-ordinal: ; --tw-slashed-zero: ; --tw-numeric-figure: ; --tw-numeric-spacing: ; --tw-numeric-fraction: ; --tw-ring-inset: ; --tw-ring-offset-width: 0px; --tw-ring-offset-color: #fff; --tw-ring-color: rgba(69,89,164,.5); --tw-ring-offset-shadow: 0 0 transparent; --tw-ring-shadow: 0 0 transparent; --tw-shadow: 0 0 transparent; --tw-shadow-colored: 0 0 transparent; --tw-blur: ; --tw-brightness: ; --tw-contrast: ; --tw-grayscale: ; --tw-hue-rotate: ; --tw-invert: ; --tw-saturate: ; --tw-sepia: ; --tw-drop-shadow: ; --tw-backdrop-blur: ; --tw-backdrop-brightness: ; --tw-backdrop-contrast: ; --tw-backdrop-grayscale: ; --tw-backdrop-hue-rotate: ; --tw-backdrop-invert: ; --tw-backdrop-opacity: ; --tw-backdrop-saturate: ; --tw-backdrop-sepia: ; font-weight: 600; color: var(--tw-prose-bold);\">Inadequate Documentation</span>: As previously mentioned, the absence of documentation makes it difficult for developers to understand the query's purpose, assumptions, and potential limitations, leading to confusion and inefficiency during maintenance or troubleshooting."
            ],
            "metadata": {
                "language": "sql",
                "azdata_cell_guid": "dc914a6d-2147-480b-8c3b-3af5f7de4fce"
            },
            "attachments": {}
        },
        {
            "cell_type": "code",
            "source": [
                "use AdventureWorks2017;\n",
                "\n",
                "SELECT\n",
                "    sp.Name AS StateProvinceName,\n",
                "    sp.StateProvinceCode,\n",
                "    sp.CountryRegionCode,\n",
                "    COUNT(a.AddressID) AS AddressCount\n",
                "FROM\n",
                "    Person.Address a\n",
                "INNER JOIN\n",
                "    Person.StateProvince sp ON a.StateProvinceID = sp.StateProvinceID\n",
                "GROUP BY\n",
                "    sp.Name,\n",
                "    sp.StateProvinceCode,\n",
                "    sp.CountryRegionCode\n",
                "ORDER BY\n",
                "    AddressCount DESC;\n",
                ""
            ],
            "metadata": {
                "language": "sql",
                "azdata_cell_guid": "87b4d1d2-29dd-463c-bb3b-1dbee2603ff5"
            },
            "outputs": [],
            "execution_count": null
        },
        {
            "cell_type": "markdown",
            "source": [
                "![Image](https://media.discordapp.net/attachments/1208965180734701639/1221602921578500259/Screenshot_2024-03-24_193305.png?ex=66132d60&is=6600b860&hm=d0c717f062ad0ae51f21c6442ba50c8b4861aed143ce3946d26696e8a8e9c52b&=&format=webp&quality=lossless&width=1602&height=888)"
            ],
            "metadata": {
                "language": "sql",
                "azdata_cell_guid": "c8086b5f-cf59-46c2-a4e2-88f11b825c40"
            },
            "attachments": {}
        },
        {
            "cell_type": "markdown",
            "source": [
                "![Image](https://media.discordapp.net/attachments/1208965180734701639/1221602921960046613/Screenshot_2024-03-24_193318.png?ex=66132d60&is=6600b860&hm=de3238653dcfb2efe6c351c8478e18cd1838f3fefddfa57b2df44474392282d3&=&format=webp&quality=lossless&width=1802&height=888)"
            ],
            "metadata": {
                "language": "sql",
                "azdata_cell_guid": "914a9437-96cf-4bc9-b393-5dde3f9b13dd"
            },
            "attachments": {}
        },
        {
            "cell_type": "markdown",
            "source": [
                "\\--19\n",
                "\n",
                "Query 6: \n",
                "\n",
                "Proposition: <span style=\"background-color: rgb(255, 255, 255); font-family: Söhne, ui-sans-serif, system-ui, -apple-system, &quot;Segoe UI&quot;, Roboto, Ubuntu, Cantarell, &quot;Noto Sans&quot;, sans-serif, &quot;Helvetica Neue&quot;, Arial, &quot;Apple Color Emoji&quot;, &quot;Segoe UI Emoji&quot;, &quot;Segoe UI Symbol&quot;, &quot;Noto Color Emoji&quot;; font-size: 16px; white-space-collapse: preserve; color: var(--vscode-foreground);\">Exploring Employee Performance and Customer Demographics</span>\n",
                "\n",
                "Why is it worst problem?\n",
                "\n",
                "<span style=\"color: rgb(13, 13, 13); font-family: Söhne, ui-sans-serif, system-ui, -apple-system, &quot;Segoe UI&quot;, Roboto, Ubuntu, Cantarell, &quot;Noto Sans&quot;, sans-serif, &quot;Helvetica Neue&quot;, Arial, &quot;Apple Color Emoji&quot;, &quot;Segoe UI Emoji&quot;, &quot;Segoe UI Symbol&quot;, &quot;Noto Color Emoji&quot;; font-size: 16px; white-space-collapse: preserve; background-color: rgb(255, 255, 255);\">This SQL script is problematic because it's overly verbose, lacks comments for clarity, may have performance issues due to excessive JOINs and CTEs, features inconsistent naming conventions, and ends with a potentially confusing ordering choice.</span>"
            ],
            "metadata": {
                "language": "sql",
                "azdata_cell_guid": "67afd6e6-d93a-48b3-8a3a-2c55d04e7c29"
            },
            "attachments": {}
        },
        {
            "cell_type": "code",
            "source": [
                "USE Northwinds2022TSQLV7;\n",
                "\n",
                "WITH OrderDetails AS (\n",
                "    SELECT\n",
                "        o.OrderId,\n",
                "        o.CustomerId,\n",
                "        o.EmployeeId,\n",
                "        o.OrderDate,\n",
                "        o.Freight,\n",
                "        c.CustomerCountry,\n",
                "        e.EmployeeTitle,\n",
                "        e.EmployeeCountry,\n",
                "        ROW_NUMBER() OVER (PARTITION BY o.EmployeeId ORDER BY o.OrderDate DESC) AS OrderRank\n",
                "    FROM\n",
                "        Sales.[Order] o\n",
                "    INNER JOIN\n",
                "        Sales.Customer c ON o.CustomerId = c.CustomerId\n",
                "    INNER JOIN\n",
                "        HumanResources.Employee e ON o.EmployeeId = e.EmployeeId\n",
                "),\n",
                "TopEmployees AS (\n",
                "    SELECT\n",
                "        EmployeeId,\n",
                "        COUNT(OrderId) AS TotalOrders,\n",
                "        SUM(Freight) AS TotalFreight,\n",
                "        MAX(OrderRank) AS HighestOrderRank\n",
                "    FROM\n",
                "        OrderDetails\n",
                "    GROUP BY\n",
                "        EmployeeId\n",
                "),\n",
                "CustomerDemographics AS (\n",
                "    SELECT\n",
                "        CustomerCountry,\n",
                "        COUNT(CustomerId) AS TotalCustomers\n",
                "    FROM\n",
                "        Sales.Customer\n",
                "    GROUP BY\n",
                "        CustomerCountry\n",
                ")\n",
                "SELECT\n",
                "    e.EmployeeId,\n",
                "    e.EmployeeLastName,\n",
                "    e.EmployeeFirstName,\n",
                "    e.EmployeeTitle,\n",
                "    e.EmployeeCountry AS EmployeeCountryOfOrigin,\n",
                "    te.TotalOrders,\n",
                "    te.TotalFreight,\n",
                "    cd.CustomerCountry,\n",
                "    cd.TotalCustomers\n",
                "FROM\n",
                "    HumanResources.Employee e\n",
                "LEFT JOIN\n",
                "    TopEmployees te ON e.EmployeeId = te.EmployeeId\n",
                "LEFT JOIN\n",
                "    CustomerDemographics cd ON e.EmployeeCountry = cd.CustomerCountry\n",
                "ORDER BY\n",
                "    te.TotalOrders DESC;\n",
                "\n",
                "\n",
                "\n",
                ""
            ],
            "metadata": {
                "language": "sql",
                "azdata_cell_guid": "236c024a-821d-4b90-8b82-2d2ac8c74862"
            },
            "outputs": [],
            "execution_count": null
        },
        {
            "cell_type": "markdown",
            "source": [
                "![Image](https://media.discordapp.net/attachments/1208965180734701639/1221603441764335706/Screenshot_2024-03-24_193506.png?ex=66132ddc&is=6600b8dc&hm=6c78384e9242bc4fe0235d69218138c1fa2605b26161c92097a0a797ea77db1c&=&format=webp&quality=lossless&width=1916&height=888)"
            ],
            "metadata": {
                "language": "sql",
                "azdata_cell_guid": "3a9b879d-4ee4-4edc-a517-bf0576bec4ea"
            },
            "attachments": {}
        },
        {
            "cell_type": "markdown",
            "source": [
                "![Image](https://media.discordapp.net/attachments/1208965180734701639/1221603442062135416/Screenshot_2024-03-24_193523.png?ex=66132ddc&is=6600b8dc&hm=966180d37965d5df05a4bf5e805f1de3d79fb15e824a17bd5272d58f18b3cb0e&=&format=webp&quality=lossless&width=1920&height=882)"
            ],
            "metadata": {
                "language": "sql",
                "azdata_cell_guid": "5c09fd40-d499-4cc0-a2a3-cdeab8925a3a"
            },
            "attachments": {}
        },
        {
            "cell_type": "markdown",
            "source": [
                "## **Remaining 14 Problems**"
            ],
            "metadata": {
                "language": "sql",
                "azdata_cell_guid": "648417bc-ba21-47e5-81e4-46d7c7d4bb40"
            },
            "attachments": {}
        },
        {
            "cell_type": "markdown",
            "source": [
                "<span style=\"color:rgb(13, 13, 13);font-family:Söhne, ui-sans-serif, system-ui, -apple-system, &quot;Segoe UI&quot;, Roboto, Ubuntu, Cantarell, &quot;Noto Sans&quot;, sans-serif, &quot;Helvetica Neue&quot;, Arial, &quot;Apple Color Emoji&quot;, &quot;Segoe UI Emoji&quot;, &quot;Segoe UI Symbol&quot;, &quot;Noto Color Emoji&quot;;font-size:16px;background-color:rgb(255, 255, 255);\">--2</span>\n",
                "\n",
                "<span style=\"color:rgb(13, 13, 13);font-family:Söhne, ui-sans-serif, system-ui, -apple-system, &quot;Segoe UI&quot;, Roboto, Ubuntu, Cantarell, &quot;Noto Sans&quot;, sans-serif, &quot;Helvetica Neue&quot;, Arial, &quot;Apple Color Emoji&quot;, &quot;Segoe UI Emoji&quot;, &quot;Segoe UI Symbol&quot;, &quot;Noto Color Emoji&quot;;font-size:16px;background-color:rgb(255, 255, 255);\">Query 7:</span>\n",
                "\n",
                "<span style=\"color:rgb(13, 13, 13);font-family:Söhne, ui-sans-serif, system-ui, -apple-system, &quot;Segoe UI&quot;, Roboto, Ubuntu, Cantarell, &quot;Noto Sans&quot;, sans-serif, &quot;Helvetica Neue&quot;, Arial, &quot;Apple Color Emoji&quot;, &quot;Segoe UI Emoji&quot;, &quot;Segoe UI Symbol&quot;, &quot;Noto Color Emoji&quot;;font-size:16px;background-color:rgb(255, 255, 255);\">Proposition: Retrieving the total number of orders and total freight cost for each shipper. Summarized result with shipper information, including company name and phone number.</span>"
            ],
            "metadata": {
                "language": "sql",
                "azdata_cell_guid": "76dc6772-3fc2-4a88-bb88-7903470f551f"
            },
            "attachments": {}
        },
        {
            "cell_type": "code",
            "source": [
                "use Northwinds2022TSQLV7;\n",
                "\n",
                "WITH OrderSummary AS (\n",
                "    SELECT\n",
                "        o.ShipperId,\n",
                "        COUNT(o.OrderId) AS TotalOrders,\n",
                "        SUM(o.Freight) AS TotalFreight\n",
                "    FROM\n",
                "        Sales.[Order] o\n",
                "    GROUP BY\n",
                "        o.ShipperId\n",
                "),\n",
                "ShipperInfo AS (\n",
                "    SELECT\n",
                "        s.ShipperId,\n",
                "        s.ShipperCompanyName,\n",
                "        s.PhoneNumber\n",
                "    FROM\n",
                "        Sales.Shipper s\n",
                ")\n",
                "SELECT\n",
                "    s.ShipperId,\n",
                "    s.ShipperCompanyName,\n",
                "    s.PhoneNumber,\n",
                "    os.TotalOrders,\n",
                "    os.TotalFreight\n",
                "FROM\n",
                "    ShipperInfo s\n",
                "JOIN\n",
                "    OrderSummary os ON s.ShipperId = os.ShipperId;\n",
                "\n",
                "\n",
                ""
            ],
            "metadata": {
                "language": "sql",
                "azdata_cell_guid": "ddb55a66-b5d4-4231-b330-7d6c589282e6"
            },
            "outputs": [],
            "execution_count": null
        },
        {
            "cell_type": "markdown",
            "source": [
                "\\--4\n",
                "\n",
                "Query 8:\n",
                "\n",
                "Proposition: R<span style=\"color:rgb(13, 13, 13);font-family:Söhne, ui-sans-serif, system-ui, -apple-system, &quot;Segoe UI&quot;, Roboto, Ubuntu, Cantarell, &quot;Noto Sans&quot;, sans-serif, &quot;Helvetica Neue&quot;, Arial, &quot;Apple Color Emoji&quot;, &quot;Segoe UI Emoji&quot;, &quot;Segoe UI Symbol&quot;, &quot;Noto Color Emoji&quot;;font-size:16px;background-color:rgb(255, 255, 255);\">etrieves order details along with the total revenue generated by each order.</span>"
            ],
            "metadata": {
                "language": "sql",
                "azdata_cell_guid": "f2697f95-d4bd-48b2-8336-a6ad23209120"
            },
            "attachments": {}
        },
        {
            "cell_type": "code",
            "source": [
                "use Northwinds2022TSQLV7;\n",
                "\n",
                "WITH OrderRevenue AS (\n",
                "    SELECT \n",
                "        o.OrderId,\n",
                "        SUM(od.UnitPrice * od.Quantity * (1 - od.DiscountPercentage)) AS TotalRevenue\n",
                "    FROM \n",
                "        Sales.[Order] o\n",
                "    INNER JOIN \n",
                "        Sales.OrderDetail od ON o.OrderId = od.OrderId\n",
                "    GROUP BY \n",
                "        o.OrderId\n",
                ")\n",
                "SELECT \n",
                "    o.OrderId,\n",
                "    od.ProductId,\n",
                "    od.UnitPrice,\n",
                "    od.Quantity,\n",
                "    od.DiscountPercentage,\n",
                "    OrderRevenue.TotalRevenue\n",
                "FROM \n",
                "    Sales.[Order] o\n",
                "INNER JOIN \n",
                "    Sales.OrderDetail od ON o.OrderId = od.OrderId\n",
                "INNER JOIN \n",
                "    OrderRevenue  ON o.OrderId = OrderRevenue.OrderId;\n",
                ""
            ],
            "metadata": {
                "language": "sql",
                "azdata_cell_guid": "3e5482bb-c87e-4e68-baeb-d455b845615e"
            },
            "outputs": [],
            "execution_count": null
        },
        {
            "cell_type": "markdown",
            "source": [
                "\\--5\n",
                "\n",
                "Query 9:\n",
                "\n",
                "<span style=\"color: rgb(13, 13, 13); font-family: Söhne, ui-sans-serif, system-ui, -apple-system, &quot;Segoe UI&quot;, Roboto, Ubuntu, Cantarell, &quot;Noto Sans&quot;, sans-serif, &quot;Helvetica Neue&quot;, Arial, &quot;Apple Color Emoji&quot;, &quot;Segoe UI Emoji&quot;, &quot;Segoe UI Symbol&quot;, &quot;Noto Color Emoji&quot;; font-size: 16px; white-space-collapse: preserve; background-color: rgb(255, 255, 255);\">Proposition: This query retrieves the latest pay rate change date and the corresponding pay rate for each job candidate.</span>"
            ],
            "metadata": {
                "language": "sql",
                "azdata_cell_guid": "a06bd57e-d81f-48df-888b-005cac036ceb"
            },
            "attachments": {}
        },
        {
            "cell_type": "code",
            "source": [
                "USE AdventureWorks2017;\n",
                "\n",
                "SELECT\n",
                "    jc.JobCandidateID,\n",
                "    jc.BusinessEntityID,\n",
                "    jc.Resume,\n",
                "    eph.RateChangeDate,\n",
                "    eph.Rate\n",
                "FROM\n",
                "    HumanResources.JobCandidate jc\n",
                "LEFT JOIN (\n",
                "    SELECT\n",
                "        BusinessEntityID,\n",
                "        MAX(RateChangeDate) AS LatestChangeDate\n",
                "    FROM\n",
                "        HumanResources.EmployeePayHistory\n",
                "    GROUP BY\n",
                "        BusinessEntityID\n",
                ") AS lprc ON jc.BusinessEntityID = lprc.BusinessEntityID\n",
                "LEFT JOIN\n",
                "    HumanResources.EmployeePayHistory eph ON lprc.BusinessEntityID = eph.BusinessEntityID \n",
                "                                             AND lprc.LatestChangeDate = eph.RateChangeDate;\n",
                ""
            ],
            "metadata": {
                "language": "sql",
                "azdata_cell_guid": "5c3b7adf-5f09-4a1f-be82-b0d13275532f"
            },
            "outputs": [],
            "execution_count": null
        },
        {
            "cell_type": "markdown",
            "source": [
                "<span style=\"border:0px solid rgb(227, 227, 227);box-sizing:border-box;color:rgb(13, 13, 13);font-family:Söhne, ui-sans-serif, system-ui, -apple-system, &quot;Segoe UI&quot;, Roboto, Ubuntu, Cantarell, &quot;Noto Sans&quot;, sans-serif, &quot;Helvetica Neue&quot;, Arial, &quot;Apple Color Emoji&quot;, &quot;Segoe UI Emoji&quot;, &quot;Segoe UI Symbol&quot;, &quot;Noto Color Emoji&quot;;font-size:16px;background-color:rgb(255, 255, 255);\">--10</span>\n",
                "\n",
                "<span style=\"border:0px solid rgb(227, 227, 227);box-sizing:border-box;color:rgb(13, 13, 13);font-family:Söhne, ui-sans-serif, system-ui, -apple-system, &quot;Segoe UI&quot;, Roboto, Ubuntu, Cantarell, &quot;Noto Sans&quot;, sans-serif, &quot;Helvetica Neue&quot;, Arial, &quot;Apple Color Emoji&quot;, &quot;Segoe UI Emoji&quot;, &quot;Segoe UI Symbol&quot;, &quot;Noto Color Emoji&quot;;font-size:16px;background-color:rgb(255, 255, 255);\">Query 10:</span>\n",
                "\n",
                "<span style=\"font-size:16px;\">Proposition (Complex) : A</span><span style=\"background-color:rgb(255, 255, 255);color:rgb(13, 13, 13);font-family:Söhne, ui-sans-serif, system-ui, -apple-system, &quot;Segoe UI&quot;, Roboto, Ubuntu, Cantarell, &quot;Noto Sans&quot;, sans-serif, &quot;Helvetica Neue&quot;, Arial, &quot;Apple Color Emoji&quot;, &quot;Segoe UI Emoji&quot;, &quot;Segoe UI Symbol&quot;, &quot;Noto Color Emoji&quot;;font-size:16px;\">nalyze the sales performance of each customer:</span>\n",
                "\n",
                "<span style=\"background-color:rgb(255, 255, 255);color:rgb(13, 13, 13);font-family:Söhne, ui-sans-serif, system-ui, -apple-system, &quot;Segoe UI&quot;, Roboto, Ubuntu, Cantarell, &quot;Noto Sans&quot;, sans-serif, &quot;Helvetica Neue&quot;, Arial, &quot;Apple Color Emoji&quot;, &quot;Segoe UI Emoji&quot;, &quot;Segoe UI Symbol&quot;, &quot;Noto Color Emoji&quot;;font-size:16px;\">This SQL query combines data from the <u>Fact.Sale, Dimension.Customer, and Fact.Order</u> tables to analyze the sales performance of each customer. </span>  <span style=\"color:rgb(13, 13, 13);font-family:Söhne, ui-sans-serif, system-ui, -apple-system, &quot;Segoe UI&quot;, Roboto, Ubuntu, Cantarell, &quot;Noto Sans&quot;, sans-serif, &quot;Helvetica Neue&quot;, Arial, &quot;Apple Color Emoji&quot;, &quot;Segoe UI Emoji&quot;, &quot;Segoe UI Symbol&quot;, &quot;Noto Color Emoji&quot;;font-size:16px;background-color:rgb(255, 255, 255);\">Specifically analyzes the sales performance for \"Tailspin Toys (Head Office)\" and \"Tailspin Toys (Peeples Valley, AZ)\" customers. It calculates their total sales value, the number of sales, and the total number of orders.</span>"
            ],
            "metadata": {
                "language": "sql",
                "azdata_cell_guid": "5493308e-2981-4c8b-bd66-a4abe5f66896"
            },
            "attachments": {}
        },
        {
            "cell_type": "code",
            "source": [
                "USE WideWorldImportersDW;\n",
                "\n",
                "WITH CustomerSales AS (\n",
                "    SELECT\n",
                "        C.[Customer Key],\n",
                "        C.Customer,\n",
                "        SUM(S.[Total Including Tax]) AS TotalSalesValue,\n",
                "        COUNT(S.[Sale Key]) AS TotalSalesCount\n",
                "    FROM\n",
                "        Fact.Sale S\n",
                "    INNER JOIN\n",
                "        Dimension.Customer C ON S.[Customer Key] = C.[Customer Key]\n",
                "    WHERE\n",
                "        C.Customer IN ('Tailspin Toys (Head Office)', 'Tailspin Toys (Peeples Valley, AZ)')\n",
                "    GROUP BY\n",
                "        C.[Customer Key], C.Customer\n",
                "),\n",
                "CustomerOrders AS (\n",
                "    SELECT\n",
                "        C.[Customer Key],\n",
                "        COUNT(O.[Order Key]) AS TotalOrders\n",
                "    FROM\n",
                "        Fact.[Order] O\n",
                "    INNER JOIN\n",
                "        Dimension.Customer C ON O.[Customer Key] = C.[Customer Key]\n",
                "    WHERE\n",
                "        C.Customer IN ('Tailspin Toys (Head Office)', 'Tailspin Toys (Peeples Valley, AZ)')\n",
                "    GROUP BY\n",
                "        C.[Customer Key]\n",
                ")\n",
                "SELECT\n",
                "    CS.[Customer Key],\n",
                "    CS.Customer,\n",
                "    CS.TotalSalesValue,\n",
                "    CS.TotalSalesCount,\n",
                "    CO.TotalOrders\n",
                "FROM\n",
                "    CustomerSales CS\n",
                "LEFT JOIN\n",
                "    CustomerOrders CO ON CS.[Customer Key] = CO.[Customer Key]\n",
                "ORDER BY\n",
                "    CS.TotalSalesValue DESC;\n",
                "\n",
                ""
            ],
            "metadata": {
                "language": "sql",
                "azdata_cell_guid": "dc042567-a7a3-4db4-a71e-653bc250c59a"
            },
            "outputs": [],
            "execution_count": null
        },
        {
            "cell_type": "markdown",
            "source": [
                "<span style=\"white-space-collapse: preserve; border: 0px solid rgb(227, 227, 227); box-sizing: border-box; --tw-border-spacing-x: 0; --tw-border-spacing-y: 0; --tw-translate-x: 0; --tw-translate-y: 0; --tw-rotate: 0; --tw-skew-x: 0; --tw-skew-y: 0; --tw-scale-x: 1; --tw-scale-y: 1; --tw-pan-x: ; --tw-pan-y: ; --tw-pinch-zoom: ; --tw-scroll-snap-strictness: proximity; --tw-gradient-from-position: ; --tw-gradient-via-position: ; --tw-gradient-to-position: ; --tw-ordinal: ; --tw-slashed-zero: ; --tw-numeric-figure: ; --tw-numeric-spacing: ; --tw-numeric-fraction: ; --tw-ring-inset: ; --tw-ring-offset-width: 0px; --tw-ring-offset-color: #fff; --tw-ring-color: rgba(69,89,164,.5); --tw-ring-offset-shadow: 0 0 transparent; --tw-ring-shadow: 0 0 transparent; --tw-shadow: 0 0 transparent; --tw-shadow-colored: 0 0 transparent; --tw-blur: ; --tw-brightness: ; --tw-contrast: ; --tw-grayscale: ; --tw-hue-rotate: ; --tw-invert: ; --tw-saturate: ; --tw-sepia: ; --tw-drop-shadow: ; --tw-backdrop-blur: ; --tw-backdrop-brightness: ; --tw-backdrop-contrast: ; --tw-backdrop-grayscale: ; --tw-backdrop-hue-rotate: ; --tw-backdrop-invert: ; --tw-backdrop-opacity: ; --tw-backdrop-saturate: ; --tw-backdrop-sepia: ; color: rgb(13, 13, 13); font-family: Söhne, ui-sans-serif, system-ui, -apple-system, &quot;Segoe UI&quot;, Roboto, Ubuntu, Cantarell, &quot;Noto Sans&quot;, sans-serif, &quot;Helvetica Neue&quot;, Arial, &quot;Apple Color Emoji&quot;, &quot;Segoe UI Emoji&quot;, &quot;Segoe UI Symbol&quot;, &quot;Noto Color Emoji&quot;; font-size: 16px; background-color: rgb(255, 255, 255);\">--7</span>\n",
                "\n",
                "<span style=\"white-space-collapse: preserve; border: 0px solid rgb(227, 227, 227); box-sizing: border-box; --tw-border-spacing-x: 0; --tw-border-spacing-y: 0; --tw-translate-x: 0; --tw-translate-y: 0; --tw-rotate: 0; --tw-skew-x: 0; --tw-skew-y: 0; --tw-scale-x: 1; --tw-scale-y: 1; --tw-pan-x: ; --tw-pan-y: ; --tw-pinch-zoom: ; --tw-scroll-snap-strictness: proximity; --tw-gradient-from-position: ; --tw-gradient-via-position: ; --tw-gradient-to-position: ; --tw-ordinal: ; --tw-slashed-zero: ; --tw-numeric-figure: ; --tw-numeric-spacing: ; --tw-numeric-fraction: ; --tw-ring-inset: ; --tw-ring-offset-width: 0px; --tw-ring-offset-color: #fff; --tw-ring-color: rgba(69,89,164,.5); --tw-ring-offset-shadow: 0 0 transparent; --tw-ring-shadow: 0 0 transparent; --tw-shadow: 0 0 transparent; --tw-shadow-colored: 0 0 transparent; --tw-blur: ; --tw-brightness: ; --tw-contrast: ; --tw-grayscale: ; --tw-hue-rotate: ; --tw-invert: ; --tw-saturate: ; --tw-sepia: ; --tw-drop-shadow: ; --tw-backdrop-blur: ; --tw-backdrop-brightness: ; --tw-backdrop-contrast: ; --tw-backdrop-grayscale: ; --tw-backdrop-hue-rotate: ; --tw-backdrop-invert: ; --tw-backdrop-opacity: ; --tw-backdrop-saturate: ; --tw-backdrop-sepia: ; color: rgb(13, 13, 13); font-family: Söhne, ui-sans-serif, system-ui, -apple-system, &quot;Segoe UI&quot;, Roboto, Ubuntu, Cantarell, &quot;Noto Sans&quot;, sans-serif, &quot;Helvetica Neue&quot;, Arial, &quot;Apple Color Emoji&quot;, &quot;Segoe UI Emoji&quot;, &quot;Segoe UI Symbol&quot;, &quot;Noto Color Emoji&quot;; font-size: 16px; background-color: rgb(255, 255, 255);\">Query 11:</span>\n",
                "\n",
                "<span style=\"white-space-collapse: preserve; border: 0px solid rgb(227, 227, 227); box-sizing: border-box; --tw-border-spacing-x: 0; --tw-border-spacing-y: 0; --tw-translate-x: 0; --tw-translate-y: 0; --tw-rotate: 0; --tw-skew-x: 0; --tw-skew-y: 0; --tw-scale-x: 1; --tw-scale-y: 1; --tw-pan-x: ; --tw-pan-y: ; --tw-pinch-zoom: ; --tw-scroll-snap-strictness: proximity; --tw-gradient-from-position: ; --tw-gradient-via-position: ; --tw-gradient-to-position: ; --tw-ordinal: ; --tw-slashed-zero: ; --tw-numeric-figure: ; --tw-numeric-spacing: ; --tw-numeric-fraction: ; --tw-ring-inset: ; --tw-ring-offset-width: 0px; --tw-ring-offset-color: #fff; --tw-ring-color: rgba(69,89,164,.5); --tw-ring-offset-shadow: 0 0 transparent; --tw-ring-shadow: 0 0 transparent; --tw-shadow: 0 0 transparent; --tw-shadow-colored: 0 0 transparent; --tw-blur: ; --tw-brightness: ; --tw-contrast: ; --tw-grayscale: ; --tw-hue-rotate: ; --tw-invert: ; --tw-saturate: ; --tw-sepia: ; --tw-drop-shadow: ; --tw-backdrop-blur: ; --tw-backdrop-brightness: ; --tw-backdrop-contrast: ; --tw-backdrop-grayscale: ; --tw-backdrop-hue-rotate: ; --tw-backdrop-invert: ; --tw-backdrop-opacity: ; --tw-backdrop-saturate: ; --tw-backdrop-sepia: ; color: rgb(13, 13, 13); font-family: Söhne, ui-sans-serif, system-ui, -apple-system, &quot;Segoe UI&quot;, Roboto, Ubuntu, Cantarell, &quot;Noto Sans&quot;, sans-serif, &quot;Helvetica Neue&quot;, Arial, &quot;Apple Color Emoji&quot;, &quot;Segoe UI Emoji&quot;, &quot;Segoe UI Symbol&quot;, &quot;Noto Color Emoji&quot;; font-size: 16px; background-color: rgb(255, 255, 255);\"><span style=\"border: 0px solid rgb(227, 227, 227); box-sizing: border-box; --tw-border-spacing-x: 0; --tw-border-spacing-y: 0; --tw-translate-x: 0; --tw-translate-y: 0; --tw-rotate: 0; --tw-skew-x: 0; --tw-skew-y: 0; --tw-scale-x: 1; --tw-scale-y: 1; --tw-pan-x: ; --tw-pan-y: ; --tw-pinch-zoom: ; --tw-scroll-snap-strictness: proximity; --tw-gradient-from-position: ; --tw-gradient-via-position: ; --tw-gradient-to-position: ; --tw-ordinal: ; --tw-slashed-zero: ; --tw-numeric-figure: ; --tw-numeric-spacing: ; --tw-numeric-fraction: ; --tw-ring-inset: ; --tw-ring-offset-width: 0px; --tw-ring-offset-color: #fff; --tw-ring-color: rgba(69,89,164,.5); --tw-ring-offset-shadow: 0 0 transparent; --tw-ring-shadow: 0 0 transparent; --tw-shadow: 0 0 transparent; --tw-shadow-colored: 0 0 transparent; --tw-blur: ; --tw-brightness: ; --tw-contrast: ; --tw-grayscale: ; --tw-hue-rotate: ; --tw-invert: ; --tw-saturate: ; --tw-sepia: ; --tw-drop-shadow: ; --tw-backdrop-blur: ; --tw-backdrop-brightness: ; --tw-backdrop-contrast: ; --tw-backdrop-grayscale: ; --tw-backdrop-hue-rotate: ; --tw-backdrop-invert: ; --tw-backdrop-opacity: ; --tw-backdrop-saturate: ; --tw-backdrop-sepia: ;\">7) Proposition:</span><span style=\"color: rgb(74, 74, 74); font-family: -apple-system, &quot;system-ui&quot;, sans-serif; font-size: 14px; white-space-collapse: collapse; background-color: rgb(255, 255, 254);\">&nbsp;</span>This SQL query retrieves unique business entities of person associated with addresses in the city of Monroe.<br></span>\n",
                "\n",
                "<span style=\"white-space-collapse: preserve; border: 0px solid rgb(227, 227, 227); box-sizing: border-box; --tw-border-spacing-x: 0; --tw-border-spacing-y: 0; --tw-translate-x: 0; --tw-translate-y: 0; --tw-rotate: 0; --tw-skew-x: 0; --tw-skew-y: 0; --tw-scale-x: 1; --tw-scale-y: 1; --tw-pan-x: ; --tw-pan-y: ; --tw-pinch-zoom: ; --tw-scroll-snap-strictness: proximity; --tw-gradient-from-position: ; --tw-gradient-via-position: ; --tw-gradient-to-position: ; --tw-ordinal: ; --tw-slashed-zero: ; --tw-numeric-figure: ; --tw-numeric-spacing: ; --tw-numeric-fraction: ; --tw-ring-inset: ; --tw-ring-offset-width: 0px; --tw-ring-offset-color: #fff; --tw-ring-color: rgba(69,89,164,.5); --tw-ring-offset-shadow: 0 0 transparent; --tw-ring-shadow: 0 0 transparent; --tw-shadow: 0 0 transparent; --tw-shadow-colored: 0 0 transparent; --tw-blur: ; --tw-brightness: ; --tw-contrast: ; --tw-grayscale: ; --tw-hue-rotate: ; --tw-invert: ; --tw-saturate: ; --tw-sepia: ; --tw-drop-shadow: ; --tw-backdrop-blur: ; --tw-backdrop-brightness: ; --tw-backdrop-contrast: ; --tw-backdrop-grayscale: ; --tw-backdrop-hue-rotate: ; --tw-backdrop-invert: ; --tw-backdrop-opacity: ; --tw-backdrop-saturate: ; --tw-backdrop-sepia: ; color: rgb(13, 13, 13); font-family: Söhne, ui-sans-serif, system-ui, -apple-system, &quot;Segoe UI&quot;, Roboto, Ubuntu, Cantarell, &quot;Noto Sans&quot;, sans-serif, &quot;Helvetica Neue&quot;, Arial, &quot;Apple Color Emoji&quot;, &quot;Segoe UI Emoji&quot;, &quot;Segoe UI Symbol&quot;, &quot;Noto Color Emoji&quot;; font-size: 16px; background-color: rgb(255, 255, 255);\">Proposition:</span> <span style=\"white-space-collapse: preserve; color: rgb(13, 13, 13); font-family: Söhne, ui-sans-serif, system-ui, -apple-system, &quot;Segoe UI&quot;, Roboto, Ubuntu, Cantarell, &quot;Noto Sans&quot;, sans-serif, &quot;Helvetica Neue&quot;, Arial, &quot;Apple Color Emoji&quot;, &quot;Segoe UI Emoji&quot;, &quot;Segoe UI Symbol&quot;, &quot;Noto Color Emoji&quot;; font-size: 16px; background-color: rgb(255, 255, 255);\">This SQL query retrieves unique business entities of person associated with addresses in the city of Monroe.</span>"
            ],
            "metadata": {
                "language": "sql",
                "azdata_cell_guid": "691b3e70-1aee-492c-9588-19ff5e3ed215"
            },
            "attachments": {}
        },
        {
            "cell_type": "code",
            "source": [
                "use AdventureWorks2017;\n",
                "SELECT DISTINCT\n",
                "    bea.BusinessEntityID,\n",
                "    a.AddressLine1,\n",
                "    a.AddressLine2,\n",
                "    a.City,\n",
                "    a.StateProvinceID,\n",
                "    a.PostalCode\n",
                "FROM\n",
                "    Person.BusinessEntityAddress bea\n",
                "INNER JOIN\n",
                "    Person.Address a ON bea.AddressID = a.AddressID\n",
                "WHERE\n",
                "    a.City = 'Monroe';\n",
                ""
            ],
            "metadata": {
                "language": "sql",
                "azdata_cell_guid": "395d3ed1-0577-4414-a293-3ffc121f0281"
            },
            "outputs": [],
            "execution_count": null
        },
        {
            "cell_type": "markdown",
            "source": [
                "<span style=\"white-space-collapse: preserve; border: 0px solid rgb(227, 227, 227); box-sizing: border-box; --tw-border-spacing-x: 0; --tw-border-spacing-y: 0; --tw-translate-x: 0; --tw-translate-y: 0; --tw-rotate: 0; --tw-skew-x: 0; --tw-skew-y: 0; --tw-scale-x: 1; --tw-scale-y: 1; --tw-pan-x: ; --tw-pan-y: ; --tw-pinch-zoom: ; --tw-scroll-snap-strictness: proximity; --tw-gradient-from-position: ; --tw-gradient-via-position: ; --tw-gradient-to-position: ; --tw-ordinal: ; --tw-slashed-zero: ; --tw-numeric-figure: ; --tw-numeric-spacing: ; --tw-numeric-fraction: ; --tw-ring-inset: ; --tw-ring-offset-width: 0px; --tw-ring-offset-color: #fff; --tw-ring-color: rgba(69,89,164,.5); --tw-ring-offset-shadow: 0 0 transparent; --tw-ring-shadow: 0 0 transparent; --tw-shadow: 0 0 transparent; --tw-shadow-colored: 0 0 transparent; --tw-blur: ; --tw-brightness: ; --tw-contrast: ; --tw-grayscale: ; --tw-hue-rotate: ; --tw-invert: ; --tw-saturate: ; --tw-sepia: ; --tw-drop-shadow: ; --tw-backdrop-blur: ; --tw-backdrop-brightness: ; --tw-backdrop-contrast: ; --tw-backdrop-grayscale: ; --tw-backdrop-hue-rotate: ; --tw-backdrop-invert: ; --tw-backdrop-opacity: ; --tw-backdrop-saturate: ; --tw-backdrop-sepia: ; color: rgb(13, 13, 13); font-family: Söhne, ui-sans-serif, system-ui, -apple-system, &quot;Segoe UI&quot;, Roboto, Ubuntu, Cantarell, &quot;Noto Sans&quot;, sans-serif, &quot;Helvetica Neue&quot;, Arial, &quot;Apple Color Emoji&quot;, &quot;Segoe UI Emoji&quot;, &quot;Segoe UI Symbol&quot;, &quot;Noto Color Emoji&quot;; font-size: 16px; background-color: rgb(255, 255, 255);\">--8</span>\n",
                "\n",
                "<span style=\"white-space-collapse: preserve; border: 0px solid rgb(227, 227, 227); box-sizing: border-box; --tw-border-spacing-x: 0; --tw-border-spacing-y: 0; --tw-translate-x: 0; --tw-translate-y: 0; --tw-rotate: 0; --tw-skew-x: 0; --tw-skew-y: 0; --tw-scale-x: 1; --tw-scale-y: 1; --tw-pan-x: ; --tw-pan-y: ; --tw-pinch-zoom: ; --tw-scroll-snap-strictness: proximity; --tw-gradient-from-position: ; --tw-gradient-via-position: ; --tw-gradient-to-position: ; --tw-ordinal: ; --tw-slashed-zero: ; --tw-numeric-figure: ; --tw-numeric-spacing: ; --tw-numeric-fraction: ; --tw-ring-inset: ; --tw-ring-offset-width: 0px; --tw-ring-offset-color: #fff; --tw-ring-color: rgba(69,89,164,.5); --tw-ring-offset-shadow: 0 0 transparent; --tw-ring-shadow: 0 0 transparent; --tw-shadow: 0 0 transparent; --tw-shadow-colored: 0 0 transparent; --tw-blur: ; --tw-brightness: ; --tw-contrast: ; --tw-grayscale: ; --tw-hue-rotate: ; --tw-invert: ; --tw-saturate: ; --tw-sepia: ; --tw-drop-shadow: ; --tw-backdrop-blur: ; --tw-backdrop-brightness: ; --tw-backdrop-contrast: ; --tw-backdrop-grayscale: ; --tw-backdrop-hue-rotate: ; --tw-backdrop-invert: ; --tw-backdrop-opacity: ; --tw-backdrop-saturate: ; --tw-backdrop-sepia: ; color: rgb(13, 13, 13); font-family: Söhne, ui-sans-serif, system-ui, -apple-system, &quot;Segoe UI&quot;, Roboto, Ubuntu, Cantarell, &quot;Noto Sans&quot;, sans-serif, &quot;Helvetica Neue&quot;, Arial, &quot;Apple Color Emoji&quot;, &quot;Segoe UI Emoji&quot;, &quot;Segoe UI Symbol&quot;, &quot;Noto Color Emoji&quot;; font-size: 16px; background-color: rgb(255, 255, 255);\">Query 12:</span>\n",
                "\n",
                "<span style=\"white-space-collapse: preserve; border: 0px solid rgb(227, 227, 227); box-sizing: border-box; --tw-border-spacing-x: 0; --tw-border-spacing-y: 0; --tw-translate-x: 0; --tw-translate-y: 0; --tw-rotate: 0; --tw-skew-x: 0; --tw-skew-y: 0; --tw-scale-x: 1; --tw-scale-y: 1; --tw-pan-x: ; --tw-pan-y: ; --tw-pinch-zoom: ; --tw-scroll-snap-strictness: proximity; --tw-gradient-from-position: ; --tw-gradient-via-position: ; --tw-gradient-to-position: ; --tw-ordinal: ; --tw-slashed-zero: ; --tw-numeric-figure: ; --tw-numeric-spacing: ; --tw-numeric-fraction: ; --tw-ring-inset: ; --tw-ring-offset-width: 0px; --tw-ring-offset-color: #fff; --tw-ring-color: rgba(69,89,164,.5); --tw-ring-offset-shadow: 0 0 transparent; --tw-ring-shadow: 0 0 transparent; --tw-shadow: 0 0 transparent; --tw-shadow-colored: 0 0 transparent; --tw-blur: ; --tw-brightness: ; --tw-contrast: ; --tw-grayscale: ; --tw-hue-rotate: ; --tw-invert: ; --tw-saturate: ; --tw-sepia: ; --tw-drop-shadow: ; --tw-backdrop-blur: ; --tw-backdrop-brightness: ; --tw-backdrop-contrast: ; --tw-backdrop-grayscale: ; --tw-backdrop-hue-rotate: ; --tw-backdrop-invert: ; --tw-backdrop-opacity: ; --tw-backdrop-saturate: ; --tw-backdrop-sepia: ; color: rgb(13, 13, 13); font-family: Söhne, ui-sans-serif, system-ui, -apple-system, &quot;Segoe UI&quot;, Roboto, Ubuntu, Cantarell, &quot;Noto Sans&quot;, sans-serif, &quot;Helvetica Neue&quot;, Arial, &quot;Apple Color Emoji&quot;, &quot;Segoe UI Emoji&quot;, &quot;Segoe UI Symbol&quot;, &quot;Noto Color Emoji&quot;; font-size: 16px; background-color: rgb(255, 255, 255);\">Proposition:</span> <span style=\"white-space-collapse: preserve; font-size: 16px;\">Retrieve business id who has vista credit card which expires in 2008 and show their credit card id and number.</span>"
            ],
            "metadata": {
                "language": "sql",
                "azdata_cell_guid": "9fe32781-288d-4e88-8413-cdfcbb0e28e5"
            },
            "attachments": {}
        },
        {
            "cell_type": "code",
            "source": [
                "Use AdventureWorks2017;\n",
                "\n",
                "SELECT \n",
                "    pc.BusinessEntityID,\n",
                "    pc.CreditCardID,\n",
                "    c.CardNumber,\n",
                "    c.CardType\n",
                "FROM \n",
                "    Sales.PersonCreditCard pc\n",
                "INNER JOIN \n",
                "    Sales.CreditCard c ON pc.CreditCardID = c.CreditCardID\n",
                "WHERE \n",
                "    c.CardType = 'Vista'\n",
                "    AND c.ExpYear = 2008;"
            ],
            "metadata": {
                "language": "sql",
                "azdata_cell_guid": "c53eca42-340a-4fa3-ac67-364f364146bd"
            },
            "outputs": [],
            "execution_count": null
        },
        {
            "cell_type": "markdown",
            "source": [
                "<span style=\"color:rgb(13, 13, 13);font-family:Söhne, ui-sans-serif, system-ui, -apple-system, &quot;Segoe UI&quot;, Roboto, Ubuntu, Cantarell, &quot;Noto Sans&quot;, sans-serif, &quot;Helvetica Neue&quot;, Arial, &quot;Apple Color Emoji&quot;, &quot;Segoe UI Emoji&quot;, &quot;Segoe UI Symbol&quot;, &quot;Noto Color Emoji&quot;;font-size:16px;background-color:rgb(255, 255, 255);\">--9</span>\n",
                "\n",
                "<span style=\"color:rgb(13, 13, 13);font-family:Söhne, ui-sans-serif, system-ui, -apple-system, &quot;Segoe UI&quot;, Roboto, Ubuntu, Cantarell, &quot;Noto Sans&quot;, sans-serif, &quot;Helvetica Neue&quot;, Arial, &quot;Apple Color Emoji&quot;, &quot;Segoe UI Emoji&quot;, &quot;Segoe UI Symbol&quot;, &quot;Noto Color Emoji&quot;;font-size:16px;background-color:rgb(255, 255, 255);\">Query 13:</span>\n",
                "\n",
                "<span style=\"color:rgb(13, 13, 13);font-family:Söhne, ui-sans-serif, system-ui, -apple-system, &quot;Segoe UI&quot;, Roboto, Ubuntu, Cantarell, &quot;Noto Sans&quot;, sans-serif, &quot;Helvetica Neue&quot;, Arial, &quot;Apple Color Emoji&quot;, &quot;Segoe UI Emoji&quot;, &quot;Segoe UI Symbol&quot;, &quot;Noto Color Emoji&quot;;font-size:16px;background-color:rgb(255, 255, 255);\">Proposition : Analyze sales data by calculating the total value of orders and the total quantity of items ordered for each customer and </span>  <span style=\"color:rgb(13, 13, 13);font-family:Söhne, ui-sans-serif, system-ui, -apple-system, &quot;Segoe UI&quot;, Roboto, Ubuntu, Cantarell, &quot;Noto Sans&quot;, sans-serif, &quot;Helvetica Neue&quot;, Arial, &quot;Apple Color Emoji&quot;, &quot;Segoe UI Emoji&quot;, &quot;Segoe UI Symbol&quot;, &quot;Noto Color Emoji&quot;;font-size:16px;background-color:rgb(255, 255, 255);\">identify the top-selling items and their contribution to overall revenue.</span>"
            ],
            "metadata": {
                "language": "sql",
                "azdata_cell_guid": "4b21cb15-4ec0-4a72-a8ca-6771d272d83e"
            },
            "attachments": {}
        },
        {
            "cell_type": "code",
            "source": [
                "USE WideWorldImporters;\n",
                "\n",
                "WITH TopSellingItems AS (\n",
                "    SELECT\n",
                "        OL.StockItemID,\n",
                "        SUM(OL.Quantity) AS TotalSoldQuantity,\n",
                "        SUM(OL.Quantity * OL.UnitPrice) AS TotalRevenue,\n",
                "        ROW_NUMBER() OVER (ORDER BY SUM(OL.Quantity * OL.UnitPrice) DESC) AS RowNum\n",
                "    FROM\n",
                "        Sales.OrderLines OL\n",
                "    GROUP BY\n",
                "        OL.StockItemID\n",
                ")\n",
                "SELECT\n",
                "    StockItemID,\n",
                "    TotalSoldQuantity,\n",
                "    TotalRevenue\n",
                "FROM\n",
                "    TopSellingItems\n",
                "WHERE\n",
                "    RowNum <= 5;\n",
                "\n",
                ""
            ],
            "metadata": {
                "language": "sql",
                "azdata_cell_guid": "f0e8aa1c-5c58-4ffc-b41d-8c3e7832e43a"
            },
            "outputs": [],
            "execution_count": null
        },
        {
            "cell_type": "markdown",
            "source": [
                "<span style=\"color: rgb(13, 13, 13); font-family: Söhne, ui-sans-serif, system-ui, -apple-system, &quot;Segoe UI&quot;, Roboto, Ubuntu, Cantarell, &quot;Noto Sans&quot;, sans-serif, &quot;Helvetica Neue&quot;, Arial, &quot;Apple Color Emoji&quot;, &quot;Segoe UI Emoji&quot;, &quot;Segoe UI Symbol&quot;, &quot;Noto Color Emoji&quot;; font-size: 16px; white-space-collapse: preserve; background-color: rgb(255, 255, 255);\">--11</span>\n",
                "\n",
                "<span style=\"background-color: rgb(255, 255, 255); color: rgb(13, 13, 13); font-family: Söhne, ui-sans-serif, system-ui, -apple-system, &quot;Segoe UI&quot;, Roboto, Ubuntu, Cantarell, &quot;Noto Sans&quot;, sans-serif, &quot;Helvetica Neue&quot;, Arial, &quot;Apple Color Emoji&quot;, &quot;Segoe UI Emoji&quot;, &quot;Segoe UI Symbol&quot;, &quot;Noto Color Emoji&quot;; font-size: 16px; white-space-collapse: preserve;\">Query 14:</span>\n",
                "\n",
                "<span style=\"background-color: rgb(255, 255, 255); color: rgb(13, 13, 13); font-family: Söhne, ui-sans-serif, system-ui, -apple-system, &quot;Segoe UI&quot;, Roboto, Ubuntu, Cantarell, &quot;Noto Sans&quot;, sans-serif, &quot;Helvetica Neue&quot;, Arial, &quot;Apple Color Emoji&quot;, &quot;Segoe UI Emoji&quot;, &quot;Segoe UI Symbol&quot;, &quot;Noto Color Emoji&quot;; font-size: 16px; white-space-collapse: preserve;\">Proposition: Analyze the movement data for customers belonging to the 'Tailspin Toys' buying group. Specifically, identify the top 3 and bottom 3 customers based on their total movements.</span>"
            ],
            "metadata": {
                "language": "sql",
                "azdata_cell_guid": "9ed42898-f517-4e13-a8c6-86bea054c2a9"
            },
            "attachments": {}
        },
        {
            "cell_type": "code",
            "source": [
                "USE WideWorldImportersDW;\n",
                "\n",
                "WITH CustomerMovements AS (\n",
                "    SELECT\n",
                "        C.Customer,\n",
                "        C.[Customer Key],\n",
                "        SUM(M.Quantity) AS TotalMovements\n",
                "    FROM\n",
                "        Dimension.Customer C\n",
                "    JOIN\n",
                "        Fact.Movement M ON C.[Customer Key] = M.[Customer Key]\n",
                "    WHERE\n",
                "        C.[Buying Group] = 'Tailspin Toys'\n",
                "    GROUP BY\n",
                "        C.Customer, C.[Customer Key]\n",
                "),\n",
                "TopCustomers AS (\n",
                "    SELECT\n",
                "        CM.Customer,\n",
                "        CM.[Customer Key],\n",
                "        CM.TotalMovements,\n",
                "        ROW_NUMBER() OVER (ORDER BY CM.TotalMovements DESC) AS MovementRank\n",
                "    FROM\n",
                "        CustomerMovements CM\n",
                "),\n",
                "BottomCustomers AS (\n",
                "    SELECT\n",
                "        CM.Customer,\n",
                "        CM.[Customer Key],\n",
                "        CM.TotalMovements,\n",
                "        ROW_NUMBER() OVER (ORDER BY CM.TotalMovements ASC) AS MovementRank\n",
                "    FROM\n",
                "        CustomerMovements CM\n",
                ")\n",
                "SELECT\n",
                "    TC.Customer,\n",
                "    TC.[Customer Key],\n",
                "    TC.TotalMovements AS TotalMovementsForTopCustomer,\n",
                "    BC.TotalMovements AS TotalMovementsForBottomCustomer\n",
                "FROM\n",
                "    TopCustomers TC\n",
                "FULL JOIN\n",
                "    BottomCustomers BC ON TC.MovementRank = BC.MovementRank\n",
                "WHERE\n",
                "    TC.MovementRank <= 3 OR BC.MovementRank <= 3\n",
                "ORDER BY\n",
                "    TC.MovementRank;\n",
                ""
            ],
            "metadata": {
                "language": "sql",
                "azdata_cell_guid": "39b95600-70a9-42b4-a5b3-8c73821b268e"
            },
            "outputs": [],
            "execution_count": null
        },
        {
            "cell_type": "markdown",
            "source": [
                "<span style=\"white-space-collapse: preserve; font-size: 16px;\">--12</span>\n",
                "\n",
                "<span style=\"white-space-collapse: preserve; font-size: 16px;\">Query 15</span>\n",
                "\n",
                "<span style=\"white-space-collapse: preserve; font-size: 16px;\">Proposition: </span>  <span style=\"white-space-collapse: preserve; background-color: rgb(255, 255, 255); color: rgb(13, 13, 13); font-family: Söhne, ui-sans-serif, system-ui, -apple-system, &quot;Segoe UI&quot;, Roboto, Ubuntu, Cantarell, &quot;Noto Sans&quot;, sans-serif, &quot;Helvetica Neue&quot;, Arial, &quot;Apple Color Emoji&quot;, &quot;Segoe UI Emoji&quot;, &quot;Segoe UI Symbol&quot;, &quot;Noto Color Emoji&quot;; font-size: 16px;\">Retrieve Essential Customer Details for Newcastle, New South Wales, Australia</span>"
            ],
            "metadata": {
                "language": "sql",
                "azdata_cell_guid": "03c19949-89ab-49cb-a982-26c78f1630e7"
            },
            "attachments": {}
        },
        {
            "cell_type": "code",
            "source": [
                "USE AdventureWorksDW2017;\n",
                "\n",
                "SELECT \n",
                "    dc.CustomerKey,\n",
                "    dc.FirstName,\n",
                "    dc.LastName,\n",
                "    dc.EmailAddress,\n",
                "    dc.YearlyIncome,\n",
                "    dc.TotalChildren,\n",
                "    dc.NumberChildrenAtHome,\n",
                "    dc.EnglishEducation,\n",
                "    dc.EnglishOccupation,\n",
                "    dc.HouseOwnerFlag,\n",
                "    dc.NumberCarsOwned,\n",
                "    dc.AddressLine1,\n",
                "    dc.Phone\n",
                "FROM \n",
                "    dbo.DimCustomer AS dc\n",
                "JOIN \n",
                "    dbo.DimGeography AS dg ON dc.GeographyKey = dg.GeographyKey\n",
                "WHERE \n",
                "    dg.City = 'Newcastle' \n",
                "    AND dg.StateProvinceName = 'New South Wales' \n",
                "    AND dg.CountryRegionCode = 'AU';\n",
                "\n",
                "\n",
                ""
            ],
            "metadata": {
                "language": "sql",
                "azdata_cell_guid": "f257fc98-2d1f-43d5-804c-a8e301a4e91c"
            },
            "outputs": [],
            "execution_count": null
        },
        {
            "cell_type": "markdown",
            "source": [
                "\\--13\n",
                "\n",
                "Query 16: \n",
                "\n",
                "<span style=\"background-color: rgb(255, 255, 255); color: rgb(13, 13, 13); font-family: Söhne, ui-sans-serif, system-ui, -apple-system, &quot;Segoe UI&quot;, Roboto, Ubuntu, Cantarell, &quot;Noto Sans&quot;, sans-serif, &quot;Helvetica Neue&quot;, Arial, &quot;Apple Color Emoji&quot;, &quot;Segoe UI Emoji&quot;, &quot;Segoe UI Symbol&quot;, &quot;Noto Color Emoji&quot;; font-size: 16px; white-space-collapse: preserve;\">Peoposition: Retrieve summarized product information, including safety stock levels, categorized by English product category names.</span>"
            ],
            "metadata": {
                "language": "sql",
                "azdata_cell_guid": "a8259ac1-fbf3-446f-8e87-f890dda05582"
            },
            "attachments": {}
        },
        {
            "cell_type": "code",
            "source": [
                "USE AdventureWorksDW2017;\n",
                "\n",
                "WITH ProductDetails AS (\n",
                "    SELECT \n",
                "        p.ProductKey,\n",
                "        p.ProductAlternateKey,\n",
                "        p.SafetyStockLevel,\n",
                "        ps.EnglishProductSubcategoryName,\n",
                "        pc.EnglishProductCategoryName\n",
                "    FROM \n",
                "        dbo.DimProduct p\n",
                "    INNER JOIN \n",
                "        dbo.DimProductSubcategory ps ON p.ProductSubcategoryKey = ps.ProductSubcategoryKey\n",
                "    INNER JOIN \n",
                "        dbo.DimProductCategory pc ON ps.ProductCategoryKey = pc.ProductCategoryKey\n",
                "),\n",
                "CalcSafetyStock AS (\n",
                "    SELECT \n",
                "        EnglishProductCategoryName,\n",
                "        SUM(SafetyStockLevel) AS TotalSafetyStock\n",
                "    FROM \n",
                "        ProductDetails\n",
                "    GROUP BY \n",
                "        EnglishProductCategoryName\n",
                ")\n",
                "SELECT \n",
                "    EnglishProductCategoryName,\n",
                "    TotalSafetyStock\n",
                "FROM \n",
                "    CalcSafetyStock\n",
                "ORDER BY \n",
                "    EnglishProductCategoryName;\n",
                ""
            ],
            "metadata": {
                "language": "sql",
                "azdata_cell_guid": "5d94fb79-c9a2-412d-9116-32062bce6fec"
            },
            "outputs": [],
            "execution_count": null
        },
        {
            "cell_type": "markdown",
            "source": [
                "<span style=\"color: rgb(13, 13, 13); font-family: Söhne, ui-sans-serif, system-ui, -apple-system, &quot;Segoe UI&quot;, Roboto, Ubuntu, Cantarell, &quot;Noto Sans&quot;, sans-serif, &quot;Helvetica Neue&quot;, Arial, &quot;Apple Color Emoji&quot;, &quot;Segoe UI Emoji&quot;, &quot;Segoe UI Symbol&quot;, &quot;Noto Color Emoji&quot;; font-size: 16px; white-space-collapse: preserve; background-color: rgb(255, 255, 255);\">--14</span>\n",
                "\n",
                "<span style=\"color: rgb(13, 13, 13); font-family: Söhne, ui-sans-serif, system-ui, -apple-system, &quot;Segoe UI&quot;, Roboto, Ubuntu, Cantarell, &quot;Noto Sans&quot;, sans-serif, &quot;Helvetica Neue&quot;, Arial, &quot;Apple Color Emoji&quot;, &quot;Segoe UI Emoji&quot;, &quot;Segoe UI Symbol&quot;, &quot;Noto Color Emoji&quot;; font-size: 16px; white-space-collapse: preserve; background-color: rgb(255, 255, 255);\">Query 17</span>\n",
                "\n",
                "<span style=\"color: rgb(13, 13, 13); font-family: Söhne, ui-sans-serif, system-ui, -apple-system, &quot;Segoe UI&quot;, Roboto, Ubuntu, Cantarell, &quot;Noto Sans&quot;, sans-serif, &quot;Helvetica Neue&quot;, Arial, &quot;Apple Color Emoji&quot;, &quot;Segoe UI Emoji&quot;, &quot;Segoe UI Symbol&quot;, &quot;Noto Color Emoji&quot;; font-size: 16px; white-space-collapse: preserve; background-color: rgb(255, 255, 255);\">Proposition: Analysis of Average End-of-Day Currency Rates Across Organizations</span>"
            ],
            "metadata": {
                "language": "sql",
                "azdata_cell_guid": "5097485a-3b9e-4d0c-857b-cf5f5d5dc0d4"
            },
            "attachments": {}
        },
        {
            "cell_type": "code",
            "source": [
                "USE AdventureWorksDW2017;\n",
                "\n",
                "WITH AvgEndOfDayRates AS (\n",
                "    SELECT \n",
                "        c.CurrencyName,\n",
                "        o.OrganizationName,\n",
                "        AVG(f.EndOfDayRate) AS AvgEndOfDayRate\n",
                "    FROM \n",
                "        dbo.FactCurrencyRate f\n",
                "    INNER JOIN \n",
                "        dbo.DimCurrency c ON f.CurrencyKey = c.CurrencyKey\n",
                "    INNER JOIN \n",
                "        dbo.DimOrganization o ON c.CurrencyKey = o.CurrencyKey\n",
                "    GROUP BY \n",
                "        c.CurrencyName, o.OrganizationName\n",
                ")\n",
                "SELECT \n",
                "    CurrencyName,\n",
                "    AVG(AvgEndOfDayRate) AS OverallAvgEndOfDayRate\n",
                "FROM \n",
                "    AvgEndOfDayRates\n",
                "GROUP BY \n",
                "    CurrencyName;\n",
                "\n",
                ""
            ],
            "metadata": {
                "language": "sql",
                "azdata_cell_guid": "44fa6121-5520-4348-84b2-5d42eb192a5e"
            },
            "outputs": [],
            "execution_count": null
        },
        {
            "cell_type": "markdown",
            "source": [
                "\\--15\n",
                "\n",
                "Query 18:\n",
                "\n",
                "<span style=\"color: rgb(13, 13, 13); font-family: Söhne, ui-sans-serif, system-ui, -apple-system, &quot;Segoe UI&quot;, Roboto, Ubuntu, Cantarell, &quot;Noto Sans&quot;, sans-serif, &quot;Helvetica Neue&quot;, Arial, &quot;Apple Color Emoji&quot;, &quot;Segoe UI Emoji&quot;, &quot;Segoe UI Symbol&quot;, &quot;Noto Color Emoji&quot;; font-size: 16px; white-space-collapse: preserve; background-color: rgb(255, 255, 255);\">Proposition: A</span><span style=\"font-family: -apple-system, BlinkMacSystemFont, sans-serif; color: var(--vscode-foreground);\">nalysis of Currency Rate Fluctuations Over Time</span>\n",
                "\n",
                "<span style=\"color: rgb(13, 13, 13); font-family: Söhne, ui-sans-serif, system-ui, -apple-system, &quot;Segoe UI&quot;, Roboto, Ubuntu, Cantarell, &quot;Noto Sans&quot;, sans-serif, &quot;Helvetica Neue&quot;, Arial, &quot;Apple Color Emoji&quot;, &quot;Segoe UI Emoji&quot;, &quot;Segoe UI Symbol&quot;, &quot;Noto Color Emoji&quot;; font-size: 16px; white-space-collapse: preserve; background-color: rgb(255, 255, 255);\">This query calculates the daily rate fluctuations for each currency and identifies significant fluctuations based on a predefined threshold. It then aggregates the significant fluctuations by year and month, providing insights into the average fluctuation for each currency over time.</span>"
            ],
            "metadata": {
                "language": "sql",
                "azdata_cell_guid": "b7819c41-23db-4178-9516-0ee9a189aa17"
            },
            "attachments": {}
        },
        {
            "cell_type": "code",
            "source": [
                "USE AdventureWorksDW2017;\n",
                "\n",
                "WITH CurrencyFluctuations AS (\n",
                "    SELECT\n",
                "        DC.CurrencyName,\n",
                "        FCR.Date,\n",
                "        FCR.EndOfDayRate - LAG(FCR.EndOfDayRate) OVER (PARTITION BY FCR.CurrencyKey ORDER BY FCR.Date) AS RateFluctuation\n",
                "    FROM\n",
                "        dbo.FactCurrencyRate FCR\n",
                "    JOIN\n",
                "        dbo.DimCurrency DC ON FCR.CurrencyKey = DC.CurrencyKey\n",
                "),\n",
                "SignificantFluctuations AS (\n",
                "    SELECT\n",
                "        CurrencyName,\n",
                "        Date,\n",
                "        RateFluctuation\n",
                "    FROM\n",
                "        CurrencyFluctuations\n",
                "    WHERE\n",
                "        ABS(RateFluctuation) > 0.05 /* Adjust threshold as needed */\n",
                ")\n",
                "SELECT\n",
                "    CurrencyName,\n",
                "    DATEPART(YEAR, Date) AS Year,\n",
                "    DATEPART(MONTH, Date) AS Month,\n",
                "    AVG(RateFluctuation) AS AverageFluctuation\n",
                "FROM\n",
                "    SignificantFluctuations\n",
                "GROUP BY\n",
                "    CurrencyName,\n",
                "    DATEPART(YEAR, Date),\n",
                "    DATEPART(MONTH, Date)\n",
                "ORDER BY\n",
                "    CurrencyName,\n",
                "    Year,\n",
                "    Month;\n",
                ""
            ],
            "metadata": {
                "language": "sql",
                "azdata_cell_guid": "fce36a86-cffc-4e5f-8b0c-1c82b991405c"
            },
            "outputs": [],
            "execution_count": null
        },
        {
            "cell_type": "markdown",
            "source": [
                "<span style=\"font-size: 16px; white-space-collapse: preserve; background-color: rgb(255, 255, 255);\">--16</span>\n",
                "\n",
                "<span style=\"font-size: 16px; white-space-collapse: preserve; background-color: rgb(255, 255, 255);\">Query 19:</span>\n",
                "\n",
                "<span style=\"color: rgb(13, 13, 13); font-family: Söhne, ui-sans-serif, system-ui, -apple-system, &quot;Segoe UI&quot;, Roboto, Ubuntu, Cantarell, &quot;Noto Sans&quot;, sans-serif, &quot;Helvetica Neue&quot;, Arial, &quot;Apple Color Emoji&quot;, &quot;Segoe UI Emoji&quot;, &quot;Segoe UI Symbol&quot;, &quot;Noto Color Emoji&quot;; font-size: 16px; white-space-collapse: preserve; background-color: rgb(255, 255, 255);\">Proposition: pe</span><span style=\"background-color: rgb(255, 255, 255); color: rgb(13, 13, 13); font-family: Söhne, ui-sans-serif, system-ui, -apple-system, &quot;Segoe UI&quot;, Roboto, Ubuntu, Cantarell, &quot;Noto Sans&quot;, sans-serif, &quot;Helvetica Neue&quot;, Arial, &quot;Apple Color Emoji&quot;, &quot;Segoe UI Emoji&quot;, &quot;Segoe UI Symbol&quot;, &quot;Noto Color Emoji&quot;; font-size: 16px; white-space-collapse: preserve;\">rform a comparative analysis of currency utilization across different organizations.</span>\n",
                "\n",
                "<span style=\"color: rgb(13, 13, 13); font-family: Söhne, ui-sans-serif, system-ui, -apple-system, &quot;Segoe UI&quot;, Roboto, Ubuntu, Cantarell, &quot;Noto Sans&quot;, sans-serif, &quot;Helvetica Neue&quot;, Arial, &quot;Apple Color Emoji&quot;, &quot;Segoe UI Emoji&quot;, &quot;Segoe UI Symbol&quot;, &quot;Noto Color Emoji&quot;; font-size: 16px; white-space-collapse: preserve; background-color: rgb(255, 255, 255);\">This query calculates the percentage of total transactions conducted in the primary currency for each organization. It identifies the primary currency for each organization and calculates the percentage of total transactions conducted in that currency. Finally, it filters the results to include only the primary currency for each organization.</span>"
            ],
            "metadata": {
                "language": "sql",
                "azdata_cell_guid": "1a4d9f31-8035-45bf-b141-dda29aec1df9"
            },
            "attachments": {}
        },
        {
            "cell_type": "code",
            "source": [
                "USE AdventureWorksDW2017;\n",
                "\n",
                "WITH CurrencyUtilization AS (\n",
                "    SELECT\n",
                "        O.OrganizationName,\n",
                "        DC.CurrencyName AS PrimaryCurrency,\n",
                "        COUNT(*) AS TotalTransactions\n",
                "    FROM\n",
                "        dbo.DimOrganization O\n",
                "    JOIN\n",
                "        dbo.DimCurrency DC ON O.CurrencyKey = DC.CurrencyKey\n",
                "    GROUP BY\n",
                "        O.OrganizationName,\n",
                "        DC.CurrencyName\n",
                "),\n",
                "PrimaryCurrencyUtilization AS (\n",
                "    SELECT\n",
                "        OrganizationName,\n",
                "        PrimaryCurrency,\n",
                "        TotalTransactions,\n",
                "        ROW_NUMBER() OVER (PARTITION BY OrganizationName ORDER BY TotalTransactions DESC) AS Rank\n",
                "    FROM\n",
                "        CurrencyUtilization\n",
                ")\n",
                "SELECT\n",
                "    OrganizationName,\n",
                "    PrimaryCurrency,\n",
                "    TotalTransactions,\n",
                "    ROUND((TotalTransactions / SUM(TotalTransactions) OVER (PARTITION BY OrganizationName)) * 100, 2) AS PercentageOfTotalTransactions\n",
                "FROM\n",
                "    PrimaryCurrencyUtilization\n",
                "WHERE\n",
                "    Rank = 1; /* Filter for primary currency */\n",
                ""
            ],
            "metadata": {
                "language": "sql",
                "azdata_cell_guid": "1aeb87eb-b44c-4261-92c6-13f89bd3a219"
            },
            "outputs": [],
            "execution_count": null
        },
        {
            "cell_type": "markdown",
            "source": [
                "\\--18\n",
                "\n",
                "Query 20:\n",
                "\n",
                " <span style=\"white-space-collapse: preserve; border: 0px solid rgb(227, 227, 227); box-sizing: border-box; --tw-border-spacing-x: 0; --tw-border-spacing-y: 0; --tw-translate-x: 0; --tw-translate-y: 0; --tw-rotate: 0; --tw-skew-x: 0; --tw-skew-y: 0; --tw-scale-x: 1; --tw-scale-y: 1; --tw-pan-x: ; --tw-pan-y: ; --tw-pinch-zoom: ; --tw-scroll-snap-strictness: proximity; --tw-gradient-from-position: ; --tw-gradient-via-position: ; --tw-gradient-to-position: ; --tw-ordinal: ; --tw-slashed-zero: ; --tw-numeric-figure: ; --tw-numeric-spacing: ; --tw-numeric-fraction: ; --tw-ring-inset: ; --tw-ring-offset-width: 0px; --tw-ring-offset-color: #fff; --tw-ring-color: rgba(69,89,164,.5); --tw-ring-offset-shadow: 0 0 transparent; --tw-ring-shadow: 0 0 transparent; --tw-shadow: 0 0 transparent; --tw-shadow-colored: 0 0 transparent; --tw-blur: ; --tw-brightness: ; --tw-contrast: ; --tw-grayscale: ; --tw-hue-rotate: ; --tw-invert: ; --tw-saturate: ; --tw-sepia: ; --tw-drop-shadow: ; --tw-backdrop-blur: ; --tw-backdrop-brightness: ; --tw-backdrop-contrast: ; --tw-backdrop-grayscale: ; --tw-backdrop-hue-rotate: ; --tw-backdrop-invert: ; --tw-backdrop-opacity: ; --tw-backdrop-saturate: ; --tw-backdrop-sepia: ; color: rgb(13, 13, 13); font-family: Söhne, ui-sans-serif, system-ui, -apple-system, &quot;Segoe UI&quot;, Roboto, Ubuntu, Cantarell, &quot;Noto Sans&quot;, sans-serif, &quot;Helvetica Neue&quot;, Arial, &quot;Apple Color Emoji&quot;, &quot;Segoe UI Emoji&quot;, &quot;Segoe UI Symbol&quot;, &quot;Noto Color Emoji&quot;; font-size: 16px; background-color: rgb(255, 255, 255);\">Proposition: Analyzing Top Suppliers by Total Revenue and Total Products Supplied, </span>  <span style=\"white-space-collapse: preserve; background-color: rgb(255, 255, 255); color: rgb(13, 13, 13); font-family: Söhne, ui-sans-serif, system-ui, -apple-system, &quot;Segoe UI&quot;, Roboto, Ubuntu, Cantarell, &quot;Noto Sans&quot;, sans-serif, &quot;Helvetica Neue&quot;, Arial, &quot;Apple Color Emoji&quot;, &quot;Segoe UI Emoji&quot;, &quot;Segoe UI Symbol&quot;, &quot;Noto Color Emoji&quot;; font-size: 16px;\">identify the top-performing suppliers based on total revenue</span>"
            ],
            "metadata": {
                "language": "sql",
                "azdata_cell_guid": "528f3b8b-7844-41a3-9090-05cc67bebd02"
            },
            "attachments": {}
        },
        {
            "cell_type": "code",
            "source": [
                "USE Northwinds2022TSQLV7;\n",
                "\n",
                "WITH SupplierDetails AS (\n",
                "    SELECT\n",
                "        s.SupplierId,\n",
                "        s.SupplierCompanyName,\n",
                "        s.SupplierCountry,\n",
                "        COUNT(p.ProductId) AS TotalProductsSupplied,\n",
                "        SUM(p.UnitPrice) AS TotalRevenue\n",
                "    FROM\n",
                "        Production.Supplier s\n",
                "    LEFT JOIN\n",
                "        Production.Product p ON s.SupplierId = p.SupplierId\n",
                "    GROUP BY\n",
                "        s.SupplierId,\n",
                "        s.SupplierCompanyName,\n",
                "        s.SupplierCountry\n",
                "),\n",
                "TopSuppliers AS (\n",
                "    SELECT\n",
                "        *,\n",
                "        ROW_NUMBER() OVER (ORDER BY TotalRevenue DESC) AS SupplierRank\n",
                "    FROM\n",
                "        SupplierDetails\n",
                ")\n",
                "SELECT top(5)\n",
                "    SupplierRank,\n",
                "    SupplierCompanyName,\n",
                "    SupplierCountry,\n",
                "    TotalProductsSupplied,\n",
                "    TotalRevenue\n",
                "FROM\n",
                "    TopSuppliers\n",
                "\n",
                "\n",
                ""
            ],
            "metadata": {
                "language": "sql",
                "azdata_cell_guid": "240e9c61-9c44-4189-94c2-0a0170e4ae5a"
            },
            "outputs": [],
            "execution_count": null
        }
    ]
}